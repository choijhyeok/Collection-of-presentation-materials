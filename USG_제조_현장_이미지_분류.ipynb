{
  "nbformat": 4,
  "nbformat_minor": 0,
  "metadata": {
    "colab": {
      "provenance": [],
      "machine_shape": "hm"
    },
    "kernelspec": {
      "name": "python3",
      "display_name": "Python 3"
    },
    "language_info": {
      "name": "python"
    },
    "accelerator": "GPU",
    "gpuClass": "standard"
  },
  "cells": [
    {
      "cell_type": "markdown",
      "source": [
        "# USG 제조 현장 이미지 탐지 Base_Line"
      ],
      "metadata": {
        "id": "hmOJE4CEK05h"
      }
    },
    {
      "cell_type": "markdown",
      "source": [
        "&nbsp;"
      ],
      "metadata": {
        "id": "swUqvAV-K7jd"
      }
    },
    {
      "cell_type": "markdown",
      "source": [
        "## 패키지 불러오기"
      ],
      "metadata": {
        "id": "gkhDH1IVK826"
      }
    },
    {
      "cell_type": "code",
      "execution_count": null,
      "metadata": {
        "id": "3qblRvMAKod6"
      },
      "outputs": [],
      "source": [
        "import torch\n",
        "import torch.nn as nn\n",
        "import torch.optim as optim\n",
        "import numpy as np\n",
        "import torchvision\n",
        "from torch.utils.data import DataLoader\n",
        "from torchvision import datasets, transforms\n",
        "import matplotlib.pyplot as plt\n",
        "import cv2\n",
        "from tqdm import tqdm\n",
        "from torchvision.utils import make_grid\n",
        "from torch.utils.data.sampler import SubsetRandomSampler\n",
        "from torchvision.utils import save_image\n",
        "from PIL import Image\n",
        "import pandas as pd\n",
        "import random\n",
        "from google.colab import files\n",
        "\n",
        "## GPU setting\n",
        "device = torch.device('cuda') if torch.cuda.is_available() else torch.device('cpu')\n",
        "\n",
        "## seed 고정\n",
        "random.seed(20230308)\n",
        "np.random.seed(20230308)\n",
        "torch.manual_seed(20230308)\n",
        "torch.cuda.manual_seed_all(20230308)\n",
        "torch.backends.cudnn.deterministic = True\n",
        "torch.backends.cudnn.benchmark = False"
      ]
    },
    {
      "cell_type": "markdown",
      "source": [
        "&nbsp;"
      ],
      "metadata": {
        "id": "kIiOCVSRLHZ4"
      }
    },
    {
      "cell_type": "markdown",
      "source": [
        "## 데이터 다운로드"
      ],
      "metadata": {
        "id": "UtbRRCx6pmtP"
      }
    },
    {
      "cell_type": "code",
      "source": [
        "!pip install --upgrade --no-cache-dir gdown\n",
        "\n",
        "import gdown\n",
        "\n",
        "id = '1kznBaHCq2N_KeSMsKVnP5QjxQU0FlxyA'\n",
        "output = 'usg1_data.zip'\n",
        "gdown.download(id=id, output=output, quiet=False)\n",
        "!unzip -qq \"/content/usg1_data.zip\""
      ],
      "metadata": {
        "colab": {
          "base_uri": "https://localhost:8080/"
        },
        "id": "GMNi7ZOapp67",
        "outputId": "1fbad049-0e50-45b7-e252-e0c37725ef48"
      },
      "execution_count": null,
      "outputs": [
        {
          "output_type": "stream",
          "name": "stdout",
          "text": [
            "Looking in indexes: https://pypi.org/simple, https://us-python.pkg.dev/colab-wheels/public/simple/\n",
            "Requirement already satisfied: gdown in /usr/local/lib/python3.8/dist-packages (4.4.0)\n",
            "Collecting gdown\n",
            "  Downloading gdown-4.6.4-py3-none-any.whl (14 kB)\n",
            "Requirement already satisfied: requests[socks] in /usr/local/lib/python3.8/dist-packages (from gdown) (2.25.1)\n",
            "Requirement already satisfied: filelock in /usr/local/lib/python3.8/dist-packages (from gdown) (3.9.0)\n",
            "Requirement already satisfied: tqdm in /usr/local/lib/python3.8/dist-packages (from gdown) (4.64.1)\n",
            "Requirement already satisfied: six in /usr/local/lib/python3.8/dist-packages (from gdown) (1.15.0)\n",
            "Requirement already satisfied: beautifulsoup4 in /usr/local/lib/python3.8/dist-packages (from gdown) (4.6.3)\n",
            "Requirement already satisfied: certifi>=2017.4.17 in /usr/local/lib/python3.8/dist-packages (from requests[socks]->gdown) (2022.12.7)\n",
            "Requirement already satisfied: chardet<5,>=3.0.2 in /usr/local/lib/python3.8/dist-packages (from requests[socks]->gdown) (4.0.0)\n",
            "Requirement already satisfied: idna<3,>=2.5 in /usr/local/lib/python3.8/dist-packages (from requests[socks]->gdown) (2.10)\n",
            "Requirement already satisfied: urllib3<1.27,>=1.21.1 in /usr/local/lib/python3.8/dist-packages (from requests[socks]->gdown) (1.26.14)\n",
            "Requirement already satisfied: PySocks!=1.5.7,>=1.5.6 in /usr/local/lib/python3.8/dist-packages (from requests[socks]->gdown) (1.7.1)\n",
            "Installing collected packages: gdown\n",
            "  Attempting uninstall: gdown\n",
            "    Found existing installation: gdown 4.4.0\n",
            "    Uninstalling gdown-4.4.0:\n",
            "      Successfully uninstalled gdown-4.4.0\n",
            "Successfully installed gdown-4.6.4\n"
          ]
        },
        {
          "output_type": "stream",
          "name": "stderr",
          "text": [
            "Downloading...\n",
            "From: https://drive.google.com/uc?id=1kznBaHCq2N_KeSMsKVnP5QjxQU0FlxyA\n",
            "To: /content/usg1_data.zip\n",
            "100%|██████████| 49.8M/49.8M [00:00<00:00, 77.4MB/s]\n"
          ]
        }
      ]
    },
    {
      "cell_type": "markdown",
      "source": [
        "&nbsp;"
      ],
      "metadata": {
        "id": "oulMV5iXpq7i"
      }
    },
    {
      "cell_type": "markdown",
      "source": [
        "## 데이터 train : valid"
      ],
      "metadata": {
        "id": "ca5I4WhOLJ83"
      }
    },
    {
      "cell_type": "code",
      "source": [
        "def train_val_split(image_dir, ratio, transforms, batch):\n",
        "    train_data = datasets.ImageFolder(image_dir, transforms)\n",
        "    train_val_ratio = ratio\n",
        "\n",
        "    # train, val 분할\n",
        "    num_train = len(train_data)\n",
        "    indices = list(range(num_train))\n",
        "\n",
        "    np.random.shuffle(indices) # shuffle\n",
        "    split = int(np.floor(train_val_ratio * num_train))\n",
        "    train_idx, valid_idx = indices[split:], indices[:split]\n",
        "\n",
        "    # batch sampler 정의\n",
        "    train_sampler = SubsetRandomSampler(train_idx)\n",
        "    valid_sampler = SubsetRandomSampler(valid_idx)\n",
        "\n",
        "    # dataloader\n",
        "    train_loader = DataLoader(train_data,\n",
        "                            batch_size = batch,\n",
        "                            sampler = train_sampler,\n",
        "                            num_workers = 2)\n",
        "    val_loader = DataLoader(train_data,\n",
        "                            batch_size = batch,\n",
        "                            sampler = valid_sampler,\n",
        "                            num_workers = 2)\n",
        "\n",
        "    return train_loader, val_loader , train_data.classes"
      ],
      "metadata": {
        "id": "BYs6jBJhKyBL"
      },
      "execution_count": null,
      "outputs": []
    },
    {
      "cell_type": "code",
      "source": [
        "data_transforms = transforms.Compose([\n",
        "          transforms.Resize((128,128)),\n",
        "          transforms.ToTensor(),\n",
        "          transforms.Normalize([0.485, 0.456, 0.406], [0.229, 0.224, 0.225])\n",
        "      ])\n",
        "\n",
        "img_path = './usg1_data/dataset/'\n",
        "train_loader, val_loader, class_name = train_val_split(img_path, 0.2, data_transforms, 64)"
      ],
      "metadata": {
        "id": "9elZEjJ0LOQD"
      },
      "execution_count": null,
      "outputs": []
    },
    {
      "cell_type": "markdown",
      "source": [
        "&nbsp;"
      ],
      "metadata": {
        "id": "VNCmnt8zLTOX"
      }
    },
    {
      "cell_type": "markdown",
      "source": [
        "## Batch 데이터 확인하기"
      ],
      "metadata": {
        "id": "j3p52cO9LUsp"
      }
    },
    {
      "cell_type": "code",
      "source": [
        "def show_image(image):\n",
        "    image_test = image.numpy().transpose((1,2,0))\n",
        "    mean = np.array([0.5])\n",
        "    std = np.array([0.5])\n",
        "    image_test = std * image_test + mean\n",
        "    image_test = np.clip(image_test, 0, 1)\n",
        "    plt.imshow(image_test)\n",
        "    # plt.title(label)\n",
        "    plt.show()"
      ],
      "metadata": {
        "id": "g5aRKMr_LUX8"
      },
      "execution_count": null,
      "outputs": []
    },
    {
      "cell_type": "code",
      "source": [
        "# 배치별 데이터 가져오기\n",
        "iterator = iter(train_loader)\n",
        "# 배치 중에서 하나꺼내서 시각화\n",
        "images, classes = next(iterator)\n",
        "image = make_grid(images)\n",
        "show_image(image)\n",
        "print(f'class : {[class_name[i] for i in classes]}')"
      ],
      "metadata": {
        "id": "MqxiCP46LZiM",
        "colab": {
          "base_uri": "https://localhost:8080/",
          "height": 308
        },
        "outputId": "cce9f4b7-b7e5-4b5b-886c-6028cd463808"
      },
      "execution_count": null,
      "outputs": [
        {
          "output_type": "display_data",
          "data": {
            "text/plain": [
              "<Figure size 432x288 with 1 Axes>"
            ],
            "image/png": "[encoded data removed]"
          },
          "metadata": {
            "needs_background": "light"
          }
        },
        {
          "output_type": "stream",
          "name": "stdout",
          "text": [
            "class : ['3', '0', '2', '2', '9', '0', '0', '6', '0', '6', '0', '0', '3', '7', '0', '2', '0', '2', '0', '0', '6', '8', '0', '7', '5', '0', '7', '4', '0', '6', '1', '8', '9', '6', '2', '2', '1', '0', '3', '9', '6', '6', '1', '2', '0', '1', '0', '0', '3', '0', '1', '0', '0', '0', '0', '0', '0', '5', '3', '0', '0', '0', '4', '0']\n"
          ]
        }
      ]
    },
    {
      "cell_type": "markdown",
      "source": [
        "&nbsp;"
      ],
      "metadata": {
        "id": "Q0yCBwU2Lbgd"
      }
    },
    {
      "cell_type": "markdown",
      "source": [
        "## model load"
      ],
      "metadata": {
        "id": "Y_b7zXKyLcof"
      }
    },
    {
      "cell_type": "code",
      "source": [
        "# 마지막 layer 변경\n",
        "model_classification = torchvision.models.vgg11(pretrained=False)\n",
        "last_layer = model_classification.classifier[6]\n",
        "model_classification.classifier[6] = nn.Linear(last_layer.in_features, len(class_name))\n",
        "\n",
        "# loss fn 설정\n",
        "criterion = nn.CrossEntropyLoss()\n",
        "\n",
        "# optimizer 설정\n",
        "optimizer = optim.SGD(model_classification.parameters(), lr=0.1)\n",
        "\n",
        "# gpu\n",
        "model = model_classification.to(device)\n",
        "\n",
        "# epoch\n",
        "num_epochs = 100\n",
        "min_loss = int(1e9)\n",
        "\n",
        "# 조기종료 설정\n",
        "counter = 0\n",
        "max_counter = 10"
      ],
      "metadata": {
        "id": "hqs26ApLLcNJ",
        "colab": {
          "base_uri": "https://localhost:8080/"
        },
        "outputId": "f1002c3f-0687-4a8f-b203-3dcb8492ed51"
      },
      "execution_count": null,
      "outputs": [
        {
          "output_type": "stream",
          "name": "stderr",
          "text": [
            "/usr/local/lib/python3.8/dist-packages/torchvision/models/_utils.py:208: UserWarning: The parameter 'pretrained' is deprecated since 0.13 and may be removed in the future, please use 'weights' instead.\n",
            "  warnings.warn(\n",
            "/usr/local/lib/python3.8/dist-packages/torchvision/models/_utils.py:223: UserWarning: Arguments other than a weight enum or `None` for 'weights' are deprecated since 0.13 and may be removed in the future. The current behavior is equivalent to passing `weights=None`.\n",
            "  warnings.warn(msg)\n"
          ]
        }
      ]
    },
    {
      "cell_type": "markdown",
      "source": [
        "- VGG16 구조"
      ],
      "metadata": {
        "id": "8II3O8GRYRGO"
      }
    },
    {
      "cell_type": "code",
      "source": [
        "model"
      ],
      "metadata": {
        "colab": {
          "base_uri": "https://localhost:8080/"
        },
        "id": "vD9FGW8pW73E",
        "outputId": "53d96866-4c85-47e0-c931-41512ef63281"
      },
      "execution_count": null,
      "outputs": [
        {
          "output_type": "execute_result",
          "data": {
            "text/plain": [
              "VGG(\n",
              "  (features): Sequential(\n",
              "    (0): Conv2d(3, 64, kernel_size=(3, 3), stride=(1, 1), padding=(1, 1))\n",
              "    (1): ReLU(inplace=True)\n",
              "    (2): MaxPool2d(kernel_size=2, stride=2, padding=0, dilation=1, ceil_mode=False)\n",
              "    (3): Conv2d(64, 128, kernel_size=(3, 3), stride=(1, 1), padding=(1, 1))\n",
              "    (4): ReLU(inplace=True)\n",
              "    (5): MaxPool2d(kernel_size=2, stride=2, padding=0, dilation=1, ceil_mode=False)\n",
              "    (6): Conv2d(128, 256, kernel_size=(3, 3), stride=(1, 1), padding=(1, 1))\n",
              "    (7): ReLU(inplace=True)\n",
              "    (8): Conv2d(256, 256, kernel_size=(3, 3), stride=(1, 1), padding=(1, 1))\n",
              "    (9): ReLU(inplace=True)\n",
              "    (10): MaxPool2d(kernel_size=2, stride=2, padding=0, dilation=1, ceil_mode=False)\n",
              "    (11): Conv2d(256, 512, kernel_size=(3, 3), stride=(1, 1), padding=(1, 1))\n",
              "    (12): ReLU(inplace=True)\n",
              "    (13): Conv2d(512, 512, kernel_size=(3, 3), stride=(1, 1), padding=(1, 1))\n",
              "    (14): ReLU(inplace=True)\n",
              "    (15): MaxPool2d(kernel_size=2, stride=2, padding=0, dilation=1, ceil_mode=False)\n",
              "    (16): Conv2d(512, 512, kernel_size=(3, 3), stride=(1, 1), padding=(1, 1))\n",
              "    (17): ReLU(inplace=True)\n",
              "    (18): Conv2d(512, 512, kernel_size=(3, 3), stride=(1, 1), padding=(1, 1))\n",
              "    (19): ReLU(inplace=True)\n",
              "    (20): MaxPool2d(kernel_size=2, stride=2, padding=0, dilation=1, ceil_mode=False)\n",
              "  )\n",
              "  (avgpool): AdaptiveAvgPool2d(output_size=(7, 7))\n",
              "  (classifier): Sequential(\n",
              "    (0): Linear(in_features=25088, out_features=4096, bias=True)\n",
              "    (1): ReLU(inplace=True)\n",
              "    (2): Dropout(p=0.5, inplace=False)\n",
              "    (3): Linear(in_features=4096, out_features=4096, bias=True)\n",
              "    (4): ReLU(inplace=True)\n",
              "    (5): Dropout(p=0.5, inplace=False)\n",
              "    (6): Linear(in_features=4096, out_features=10, bias=True)\n",
              "  )\n",
              ")"
            ]
          },
          "metadata": {},
          "execution_count": 8
        }
      ]
    },
    {
      "cell_type": "markdown",
      "source": [
        "&nbsp;"
      ],
      "metadata": {
        "id": "wRUX5Vj7LuaM"
      }
    },
    {
      "cell_type": "markdown",
      "source": [
        "## model train, eval 함수 설정"
      ],
      "metadata": {
        "id": "5fjWJJs7Lvej"
      }
    },
    {
      "cell_type": "code",
      "source": [
        "def model_train(model, data_loader, loss_fn, optimizer, device):\n",
        "    model.train()\n",
        "    running_loss = 0\n",
        "    corr = 0\n",
        "    for img, lbl in tqdm(data_loader):\n",
        "        img, lbl = img.to(device), lbl.to(device)\n",
        "        optimizer.zero_grad()\n",
        "        output = model(img).to(device)\n",
        "        loss = loss_fn(output, lbl)\n",
        "        loss.backward()\n",
        "        optimizer.step()\n",
        "        _, pred = output.max(dim=1)\n",
        "        corr += pred.eq(lbl).sum().item()\n",
        "        running_loss += loss.item() * img.size(0)\n",
        "    # 누적된 정답수를 전체 개수로 나누어 주면 정확도 계산\n",
        "    acc = corr / len(data_loader.dataset)\n",
        "    # 평균 손실(loss)과 정확도를 반환\n",
        "    return running_loss / len(data_loader.dataset), acc\n",
        "\n",
        "def model_evaluate(model, data_loader, loss_fn, device):\n",
        "    model.eval()\n",
        "    with torch.no_grad():\n",
        "        corr = 0\n",
        "        running_loss = 0\n",
        "\n",
        "        for img, lbl in tqdm(data_loader):\n",
        "            img, lbl = img.to(device), lbl.to(device)\n",
        "            output = model(img)\n",
        "            _, pred = output.max(dim=1)\n",
        "            corr += torch.sum(pred.eq(lbl)).item()\n",
        "            running_loss += loss_fn(output, lbl).item() * img.size(0)\n",
        "        acc = corr / len(data_loader.dataset)\n",
        "        return running_loss / len(data_loader.dataset), acc"
      ],
      "metadata": {
        "id": "Hu3pwZFlLvMn"
      },
      "execution_count": null,
      "outputs": []
    },
    {
      "cell_type": "markdown",
      "source": [
        "&nbsp;"
      ],
      "metadata": {
        "id": "Adr4ZVeEL4vn"
      }
    },
    {
      "cell_type": "markdown",
      "source": [
        "## model 훈련"
      ],
      "metadata": {
        "id": "C9ai-MQpL57U"
      }
    },
    {
      "cell_type": "code",
      "source": [
        "train_losses = []\n",
        "val_losses = []\n",
        "train_accs = []\n",
        "val_accs = []\n",
        "\n",
        "# Epoch 별 훈련 및 검증을 수행\n",
        "for epoch in range(num_epochs+1):\n",
        "\n",
        "    if counter >= max_counter:\n",
        "        print('조기 종료')\n",
        "        break\n",
        "\n",
        "    train_loss, train_acc = model_train(model, train_loader, criterion, optimizer, device)\n",
        "    val_loss, val_acc = model_evaluate(model, val_loader, criterion, device)\n",
        "\n",
        "    train_losses.append(train_loss)\n",
        "    val_losses.append(val_loss)\n",
        "    train_accs.append(train_acc)\n",
        "    val_accs.append(val_acc)\n",
        "\n",
        "    # val_loss 가 개선되었다면 min_loss를 갱신, model의 가중치(weights)를 저장\n",
        "    if val_loss < min_loss:\n",
        "        print(f'model loss 갱신 {min_loss:.5f} -> {val_loss:.5f}')\n",
        "        min_loss = val_loss\n",
        "        torch.save(model.state_dict(), 'best_model.pth')\n",
        "        counter = 0\n",
        "    else:\n",
        "        counter +=1\n",
        "\n",
        "    # Epoch 별 결과를 출력\n",
        "    print(f'epoch {epoch + 1:02d}, loss: {train_loss:.5f}, acc: {train_acc:.5f}, val_loss: {val_loss:.5f}, val_accuracy: {val_acc:.5f}')"
      ],
      "metadata": {
        "id": "39zeKRNHL5fv",
        "colab": {
          "base_uri": "https://localhost:8080/"
        },
        "outputId": "36526dbe-d895-4b5d-d818-5f273f5a673a"
      },
      "execution_count": null,
      "outputs": [
        {
          "output_type": "stream",
          "name": "stderr",
          "text": [
            "100%|██████████| 166/166 [00:52<00:00,  3.14it/s]\n",
            "100%|██████████| 42/42 [00:04<00:00,  9.80it/s]\n"
          ]
        },
        {
          "output_type": "stream",
          "name": "stdout",
          "text": [
            "model loss 갱신 1000000000.00000 -> 0.42089\n",
            "epoch 01, loss: 1.69368, acc: 0.23577, val_loss: 0.42089, val_accuracy: 0.05713\n"
          ]
        },
        {
          "output_type": "stream",
          "name": "stderr",
          "text": [
            "100%|██████████| 166/166 [00:46<00:00,  3.56it/s]\n",
            "100%|██████████| 42/42 [00:04<00:00, 10.18it/s]\n"
          ]
        },
        {
          "output_type": "stream",
          "name": "stdout",
          "text": [
            "epoch 02, loss: 1.59789, acc: 0.27119, val_loss: 0.59425, val_accuracy: 0.04275\n"
          ]
        },
        {
          "output_type": "stream",
          "name": "stderr",
          "text": [
            "100%|██████████| 166/166 [00:46<00:00,  3.58it/s]\n",
            "100%|██████████| 42/42 [00:04<00:00, 10.17it/s]\n"
          ]
        },
        {
          "output_type": "stream",
          "name": "stdout",
          "text": [
            "model loss 갱신 0.42089 -> 0.06348\n",
            "epoch 03, loss: 0.94383, acc: 0.49047, val_loss: 0.06348, val_accuracy: 0.18288\n"
          ]
        },
        {
          "output_type": "stream",
          "name": "stderr",
          "text": [
            "100%|██████████| 166/166 [00:46<00:00,  3.58it/s]\n",
            "100%|██████████| 42/42 [00:04<00:00, 10.21it/s]\n"
          ]
        },
        {
          "output_type": "stream",
          "name": "stdout",
          "text": [
            "epoch 04, loss: 0.21840, acc: 0.73525, val_loss: 0.33040, val_accuracy: 0.12962\n"
          ]
        },
        {
          "output_type": "stream",
          "name": "stderr",
          "text": [
            "100%|██████████| 166/166 [00:46<00:00,  3.57it/s]\n",
            "100%|██████████| 42/42 [00:04<00:00, 10.11it/s]\n"
          ]
        },
        {
          "output_type": "stream",
          "name": "stdout",
          "text": [
            "model loss 갱신 0.06348 -> 0.05058\n",
            "epoch 05, loss: 0.24420, acc: 0.73086, val_loss: 0.05058, val_accuracy: 0.18561\n"
          ]
        },
        {
          "output_type": "stream",
          "name": "stderr",
          "text": [
            "100%|██████████| 166/166 [00:46<00:00,  3.57it/s]\n",
            "100%|██████████| 42/42 [00:04<00:00, 10.16it/s]\n"
          ]
        },
        {
          "output_type": "stream",
          "name": "stdout",
          "text": [
            "model loss 갱신 0.05058 -> 0.04053\n",
            "epoch 06, loss: 0.09999, acc: 0.77247, val_loss: 0.04053, val_accuracy: 0.18985\n"
          ]
        },
        {
          "output_type": "stream",
          "name": "stderr",
          "text": [
            "100%|██████████| 166/166 [00:46<00:00,  3.58it/s]\n",
            "100%|██████████| 42/42 [00:04<00:00, 10.16it/s]\n"
          ]
        },
        {
          "output_type": "stream",
          "name": "stdout",
          "text": [
            "model loss 갱신 0.04053 -> 0.03202\n",
            "epoch 07, loss: 0.07804, acc: 0.77875, val_loss: 0.03202, val_accuracy: 0.19348\n"
          ]
        },
        {
          "output_type": "stream",
          "name": "stderr",
          "text": [
            "100%|██████████| 166/166 [00:46<00:00,  3.59it/s]\n",
            "100%|██████████| 42/42 [00:04<00:00, 10.16it/s]\n"
          ]
        },
        {
          "output_type": "stream",
          "name": "stdout",
          "text": [
            "model loss 갱신 0.03202 -> 0.03200\n",
            "epoch 08, loss: 0.06398, acc: 0.78170, val_loss: 0.03200, val_accuracy: 0.19212\n"
          ]
        },
        {
          "output_type": "stream",
          "name": "stderr",
          "text": [
            "100%|██████████| 166/166 [00:46<00:00,  3.58it/s]\n",
            "100%|██████████| 42/42 [00:04<00:00, 10.17it/s]\n"
          ]
        },
        {
          "output_type": "stream",
          "name": "stdout",
          "text": [
            "model loss 갱신 0.03200 -> 0.02977\n",
            "epoch 09, loss: 0.06957, acc: 0.78080, val_loss: 0.02977, val_accuracy: 0.19348\n"
          ]
        },
        {
          "output_type": "stream",
          "name": "stderr",
          "text": [
            "100%|██████████| 166/166 [00:46<00:00,  3.59it/s]\n",
            "100%|██████████| 42/42 [00:04<00:00, 10.20it/s]\n"
          ]
        },
        {
          "output_type": "stream",
          "name": "stdout",
          "text": [
            "model loss 갱신 0.02977 -> 0.02774\n",
            "epoch 10, loss: 0.05754, acc: 0.78390, val_loss: 0.02774, val_accuracy: 0.19317\n"
          ]
        },
        {
          "output_type": "stream",
          "name": "stderr",
          "text": [
            "100%|██████████| 166/166 [00:46<00:00,  3.58it/s]\n",
            "100%|██████████| 42/42 [00:04<00:00, 10.13it/s]\n"
          ]
        },
        {
          "output_type": "stream",
          "name": "stdout",
          "text": [
            "epoch 11, loss: 0.04640, acc: 0.78730, val_loss: 0.03286, val_accuracy: 0.19333\n"
          ]
        },
        {
          "output_type": "stream",
          "name": "stderr",
          "text": [
            "100%|██████████| 166/166 [00:46<00:00,  3.58it/s]\n",
            "100%|██████████| 42/42 [00:04<00:00, 10.04it/s]\n"
          ]
        },
        {
          "output_type": "stream",
          "name": "stdout",
          "text": [
            "epoch 12, loss: 0.03713, acc: 0.78957, val_loss: 0.03189, val_accuracy: 0.19499\n"
          ]
        },
        {
          "output_type": "stream",
          "name": "stderr",
          "text": [
            "100%|██████████| 166/166 [00:46<00:00,  3.59it/s]\n",
            "100%|██████████| 42/42 [00:04<00:00, 10.18it/s]\n"
          ]
        },
        {
          "output_type": "stream",
          "name": "stdout",
          "text": [
            "epoch 13, loss: 0.03593, acc: 0.79101, val_loss: 0.02984, val_accuracy: 0.19469\n"
          ]
        },
        {
          "output_type": "stream",
          "name": "stderr",
          "text": [
            "100%|██████████| 166/166 [00:46<00:00,  3.58it/s]\n",
            "100%|██████████| 42/42 [00:04<00:00, 10.13it/s]\n"
          ]
        },
        {
          "output_type": "stream",
          "name": "stdout",
          "text": [
            "epoch 14, loss: 0.02990, acc: 0.79184, val_loss: 0.03560, val_accuracy: 0.19439\n"
          ]
        },
        {
          "output_type": "stream",
          "name": "stderr",
          "text": [
            "100%|██████████| 166/166 [00:46<00:00,  3.59it/s]\n",
            "100%|██████████| 42/42 [00:04<00:00, 10.10it/s]\n"
          ]
        },
        {
          "output_type": "stream",
          "name": "stdout",
          "text": [
            "epoch 15, loss: 0.02952, acc: 0.79146, val_loss: 0.03651, val_accuracy: 0.19454\n"
          ]
        },
        {
          "output_type": "stream",
          "name": "stderr",
          "text": [
            "100%|██████████| 166/166 [00:46<00:00,  3.59it/s]\n",
            "100%|██████████| 42/42 [00:04<00:00, 10.22it/s]\n"
          ]
        },
        {
          "output_type": "stream",
          "name": "stdout",
          "text": [
            "epoch 16, loss: 0.02528, acc: 0.79328, val_loss: 0.02941, val_accuracy: 0.19476\n"
          ]
        },
        {
          "output_type": "stream",
          "name": "stderr",
          "text": [
            "100%|██████████| 166/166 [00:46<00:00,  3.58it/s]\n",
            "100%|██████████| 42/42 [00:04<00:00, 10.20it/s]\n"
          ]
        },
        {
          "output_type": "stream",
          "name": "stdout",
          "text": [
            "epoch 17, loss: 0.01966, acc: 0.79479, val_loss: 0.03134, val_accuracy: 0.19454\n"
          ]
        },
        {
          "output_type": "stream",
          "name": "stderr",
          "text": [
            "100%|██████████| 166/166 [00:46<00:00,  3.59it/s]\n",
            "100%|██████████| 42/42 [00:04<00:00, 10.12it/s]\n"
          ]
        },
        {
          "output_type": "stream",
          "name": "stdout",
          "text": [
            "epoch 18, loss: 0.01243, acc: 0.79661, val_loss: 0.04195, val_accuracy: 0.19423\n"
          ]
        },
        {
          "output_type": "stream",
          "name": "stderr",
          "text": [
            "100%|██████████| 166/166 [00:46<00:00,  3.59it/s]\n",
            "100%|██████████| 42/42 [00:04<00:00, 10.13it/s]\n"
          ]
        },
        {
          "output_type": "stream",
          "name": "stdout",
          "text": [
            "epoch 19, loss: 0.05672, acc: 0.78526, val_loss: 0.03779, val_accuracy: 0.19355\n"
          ]
        },
        {
          "output_type": "stream",
          "name": "stderr",
          "text": [
            "100%|██████████| 166/166 [00:46<00:00,  3.59it/s]\n",
            "100%|██████████| 42/42 [00:04<00:00, 10.18it/s]"
          ]
        },
        {
          "output_type": "stream",
          "name": "stdout",
          "text": [
            "epoch 20, loss: 0.03141, acc: 0.79086, val_loss: 0.03567, val_accuracy: 0.19431\n",
            "조기 종료\n"
          ]
        },
        {
          "output_type": "stream",
          "name": "stderr",
          "text": [
            "\n"
          ]
        }
      ]
    },
    {
      "cell_type": "markdown",
      "source": [
        "&nbsp;"
      ],
      "metadata": {
        "id": "m_R3Dd-sMDO0"
      }
    },
    {
      "cell_type": "markdown",
      "source": [
        "## 훈련 과정 시각화"
      ],
      "metadata": {
        "id": "idcq9g7aMEnE"
      }
    },
    {
      "cell_type": "code",
      "source": [
        "fig, axes = plt.subplots(2,2, figsize=(10, 5))\n",
        "plt.subplot(1,2,1)\n",
        "plt.xlabel('Epoch')\n",
        "plt.ylabel('train loss')\n",
        "plt.plot([i for i in range(len(train_losses))],train_losses)\n",
        "plt.title('Train')\n",
        "\n",
        "plt.subplot(1,2,2)\n",
        "plt.xlabel('Epoch')\n",
        "plt.ylabel('val loss')\n",
        "plt.plot([i for i in range(len(train_losses))],val_losses)\n",
        "plt.title('Valid')\n",
        "plt.show()"
      ],
      "metadata": {
        "id": "qstzfONMMD-1",
        "colab": {
          "base_uri": "https://localhost:8080/",
          "height": 350
        },
        "outputId": "e89da843-f901-412e-feb8-069ae3ffb1f7"
      },
      "execution_count": null,
      "outputs": [
        {
          "output_type": "display_data",
          "data": {
            "text/plain": [
              "<Figure size 720x360 with 2 Axes>"
            ],
            "image/png": "[encoded data removed]"
          },
          "metadata": {
            "needs_background": "light"
          }
        }
      ]
    },
    {
      "cell_type": "markdown",
      "source": [
        "&nbsp;"
      ],
      "metadata": {
        "id": "bqHjFxc6MV7l"
      }
    },
    {
      "cell_type": "markdown",
      "source": [
        "## Best Model 불러오기"
      ],
      "metadata": {
        "id": "5FCrbxr4wTEL"
      }
    },
    {
      "cell_type": "code",
      "source": [
        "model_classification = torchvision.models.vgg11(pretrained=False)\n",
        "last_layer = model_classification.classifier[-1]\n",
        "model_classification.classifier[-1] = nn.Linear(last_layer.in_features, len(class_name))\n",
        "model = model_classification.to(device)\n",
        "\n",
        "\n",
        "checkpoint = torch.load('best_model.pth')\n",
        "model.load_state_dict(checkpoint)"
      ],
      "metadata": {
        "colab": {
          "base_uri": "https://localhost:8080/"
        },
        "id": "Y0KXyD_3wVOW",
        "outputId": "6e64295b-fea4-46dd-eaf2-b6c5e996171f"
      },
      "execution_count": null,
      "outputs": [
        {
          "output_type": "execute_result",
          "data": {
            "text/plain": [
              "<All keys matched successfully>"
            ]
          },
          "metadata": {},
          "execution_count": 12
        }
      ]
    },
    {
      "cell_type": "markdown",
      "source": [
        "&nbsp;"
      ],
      "metadata": {
        "id": "sN7WPSqrwW-3"
      }
    },
    {
      "cell_type": "markdown",
      "source": [
        "## model 예측 결과 저장"
      ],
      "metadata": {
        "id": "iHwrTyiuMXMJ"
      }
    },
    {
      "cell_type": "code",
      "source": [
        "arr = np.array([])\n",
        "with torch.no_grad():\n",
        "    model.eval()\n",
        "    for i in range(100):\n",
        "        img = Image.open(f'./usg1_data/test_data/test_{i}.jpg').convert('RGB')\n",
        "        img = data_transforms(img)\n",
        "        img = img.reshape(1, img.shape[0], img.shape[1], img.shape[2])\n",
        "        img = img.type(torch.float)\n",
        "        img = img.to(device)\n",
        "        outputs = model(img)\n",
        "        _, pred = torch.max(outputs, 1)\n",
        "        pred_np = pred.cpu().detach().numpy()\n",
        "        arr=np.append(arr, pred_np)\n",
        "\n",
        "arr = arr.astype(np.int32)\n",
        "\n",
        "# 예측 저장, 해당 csv파일을 제출\n",
        "y_pred = pd.DataFrame(arr)\n",
        "y_pred.to_csv('y_pred.csv',index=False, header=None)\n",
        "\n",
        "# 예측 결과 다운\n",
        "files.download(\"y_pred.csv\")"
      ],
      "metadata": {
        "id": "Up2fvyXgMWu8",
        "colab": {
          "base_uri": "https://localhost:8080/",
          "height": 17
        },
        "outputId": "af41b764-3ce6-40bb-a10e-bdf86db68cb4"
      },
      "execution_count": null,
      "outputs": [
        {
          "output_type": "display_data",
          "data": {
            "text/plain": [
              "<IPython.core.display.Javascript object>"
            ],
            "application/javascript": [
              "\n",
              "    async function download(id, filename, size) {\n",
              "      if (!google.colab.kernel.accessAllowed) {\n",
              "        return;\n",
              "      }\n",
              "      const div = document.createElement('div');\n",
              "      const label = document.createElement('label');\n",
              "      label.textContent = `Downloading \"${filename}\": `;\n",
              "      div.appendChild(label);\n",
              "      const progress = document.createElement('progress');\n",
              "      progress.max = size;\n",
              "      div.appendChild(progress);\n",
              "      document.body.appendChild(div);\n",
              "\n",
              "      const buffers = [];\n",
              "      let downloaded = 0;\n",
              "\n",
              "      const channel = await google.colab.kernel.comms.open(id);\n",
              "      // Send a message to notify the kernel that we're ready.\n",
              "      channel.send({})\n",
              "\n",
              "      for await (const message of channel.messages) {\n",
              "        // Send a message to notify the kernel that we're ready.\n",
              "        channel.send({})\n",
              "        if (message.buffers) {\n",
              "          for (const buffer of message.buffers) {\n",
              "            buffers.push(buffer);\n",
              "            downloaded += buffer.byteLength;\n",
              "            progress.value = downloaded;\n",
              "          }\n",
              "        }\n",
              "      }\n",
              "      const blob = new Blob(buffers, {type: 'application/binary'});\n",
              "      const a = document.createElement('a');\n",
              "      a.href = window.URL.createObjectURL(blob);\n",
              "      a.download = filename;\n",
              "      div.appendChild(a);\n",
              "      a.click();\n",
              "      div.remove();\n",
              "    }\n",
              "  "
            ]
          },
          "metadata": {}
        },
        {
          "output_type": "display_data",
          "data": {
            "text/plain": [
              "<IPython.core.display.Javascript object>"
            ],
            "application/javascript": [
              "download(\"download_66fb440b-fff3-4838-a39b-3521605b1b8d\", \"y_pred.csv\", 200)"
            ]
          },
          "metadata": {}
        }
      ]
    },
    {
      "cell_type": "markdown",
      "source": [
        "- 예측 결과 확인"
      ],
      "metadata": {
        "id": "dcovaRZgcgtN"
      }
    },
    {
      "cell_type": "code",
      "source": [
        "y_pred"
      ],
      "metadata": {
        "colab": {
          "base_uri": "https://localhost:8080/",
          "height": 424
        },
        "id": "pi95-NRjcZEx",
        "outputId": "7966c5d4-e4ab-4af2-f0fa-cf7493e42c50"
      },
      "execution_count": null,
      "outputs": [
        {
          "output_type": "execute_result",
          "data": {
            "text/plain": [
              "    0\n",
              "0   5\n",
              "1   6\n",
              "2   3\n",
              "3   5\n",
              "4   5\n",
              ".. ..\n",
              "95  0\n",
              "96  3\n",
              "97  3\n",
              "98  1\n",
              "99  3\n",
              "\n",
              "[100 rows x 1 columns]"
            ],
            "text/html": [
              "\n",
              "  <div id=\"df-de2aba38-a70c-4d12-bcee-2a69890f1066\">\n",
              "    <div class=\"colab-df-container\">\n",
              "      <div>\n",
              "<style scoped>\n",
              "    .dataframe tbody tr th:only-of-type {\n",
              "        vertical-align: middle;\n",
              "    }\n",
              "\n",
              "    .dataframe tbody tr th {\n",
              "        vertical-align: top;\n",
              "    }\n",
              "\n",
              "    .dataframe thead th {\n",
              "        text-align: right;\n",
              "    }\n",
              "</style>\n",
              "<table border=\"1\" class=\"dataframe\">\n",
              "  <thead>\n",
              "    <tr style=\"text-align: right;\">\n",
              "      <th></th>\n",
              "      <th>0</th>\n",
              "    </tr>\n",
              "  </thead>\n",
              "  <tbody>\n",
              "    <tr>\n",
              "      <th>0</th>\n",
              "      <td>5</td>\n",
              "    </tr>\n",
              "    <tr>\n",
              "      <th>1</th>\n",
              "      <td>6</td>\n",
              "    </tr>\n",
              "    <tr>\n",
              "      <th>2</th>\n",
              "      <td>3</td>\n",
              "    </tr>\n",
              "    <tr>\n",
              "      <th>3</th>\n",
              "      <td>5</td>\n",
              "    </tr>\n",
              "    <tr>\n",
              "      <th>4</th>\n",
              "      <td>5</td>\n",
              "    </tr>\n",
              "    <tr>\n",
              "      <th>...</th>\n",
              "      <td>...</td>\n",
              "    </tr>\n",
              "    <tr>\n",
              "      <th>95</th>\n",
              "      <td>0</td>\n",
              "    </tr>\n",
              "    <tr>\n",
              "      <th>96</th>\n",
              "      <td>3</td>\n",
              "    </tr>\n",
              "    <tr>\n",
              "      <th>97</th>\n",
              "      <td>3</td>\n",
              "    </tr>\n",
              "    <tr>\n",
              "      <th>98</th>\n",
              "      <td>1</td>\n",
              "    </tr>\n",
              "    <tr>\n",
              "      <th>99</th>\n",
              "      <td>3</td>\n",
              "    </tr>\n",
              "  </tbody>\n",
              "</table>\n",
              "<p>100 rows × 1 columns</p>\n",
              "</div>\n",
              "      <button class=\"colab-df-convert\" onclick=\"convertToInteractive('df-de2aba38-a70c-4d12-bcee-2a69890f1066')\"\n",
              "              title=\"Convert this dataframe to an interactive table.\"\n",
              "              style=\"display:none;\">\n",
              "        \n",
              "  <svg xmlns=\"http://www.w3.org/2000/svg\" height=\"24px\"viewBox=\"0 0 24 24\"\n",
              "       width=\"24px\">\n",
              "    <path d=\"M0 0h24v24H0V0z\" fill=\"none\"/>\n",
              "    <path d=\"M18.56 5.44l.94 2.06.94-2.06 2.06-.94-2.06-.94-.94-2.06-.94 2.06-2.06.94zm-11 1L8.5 8.5l.94-2.06 2.06-.94-2.06-.94L8.5 2.5l-.94 2.06-2.06.94zm10 10l.94 2.06.94-2.06 2.06-.94-2.06-.94-.94-2.06-.94 2.06-2.06.94z\"/><path d=\"M17.41 7.96l-1.37-1.37c-.4-.4-.92-.59-1.43-.59-.52 0-1.04.2-1.43.59L10.3 9.45l-7.72 7.72c-.78.78-.78 2.05 0 2.83L4 21.41c.39.39.9.59 1.41.59.51 0 1.02-.2 1.41-.59l7.78-7.78 2.81-2.81c.8-.78.8-2.07 0-2.86zM5.41 20L4 18.59l7.72-7.72 1.47 1.35L5.41 20z\"/>\n",
              "  </svg>\n",
              "      </button>\n",
              "      \n",
              "  <style>\n",
              "    .colab-df-container {\n",
              "      display:flex;\n",
              "      flex-wrap:wrap;\n",
              "      gap: 12px;\n",
              "    }\n",
              "\n",
              "    .colab-df-convert {\n",
              "      background-color: #E8F0FE;\n",
              "      border: none;\n",
              "      border-radius: 50%;\n",
              "      cursor: pointer;\n",
              "      display: none;\n",
              "      fill: #1967D2;\n",
              "      height: 32px;\n",
              "      padding: 0 0 0 0;\n",
              "      width: 32px;\n",
              "    }\n",
              "\n",
              "    .colab-df-convert:hover {\n",
              "      background-color: #E2EBFA;\n",
              "      box-shadow: 0px 1px 2px rgba(60, 64, 67, 0.3), 0px 1px 3px 1px rgba(60, 64, 67, 0.15);\n",
              "      fill: #174EA6;\n",
              "    }\n",
              "\n",
              "    [theme=dark] .colab-df-convert {\n",
              "      background-color: #3B4455;\n",
              "      fill: #D2E3FC;\n",
              "    }\n",
              "\n",
              "    [theme=dark] .colab-df-convert:hover {\n",
              "      background-color: #434B5C;\n",
              "      box-shadow: 0px 1px 3px 1px rgba(0, 0, 0, 0.15);\n",
              "      filter: drop-shadow(0px 1px 2px rgba(0, 0, 0, 0.3));\n",
              "      fill: #FFFFFF;\n",
              "    }\n",
              "  </style>\n",
              "\n",
              "      <script>\n",
              "        const buttonEl =\n",
              "          document.querySelector('#df-de2aba38-a70c-4d12-bcee-2a69890f1066 button.colab-df-convert');\n",
              "        buttonEl.style.display =\n",
              "          google.colab.kernel.accessAllowed ? 'block' : 'none';\n",
              "\n",
              "        async function convertToInteractive(key) {\n",
              "          const element = document.querySelector('#df-de2aba38-a70c-4d12-bcee-2a69890f1066');\n",
              "          const dataTable =\n",
              "            await google.colab.kernel.invokeFunction('convertToInteractive',\n",
              "                                                     [key], {});\n",
              "          if (!dataTable) return;\n",
              "\n",
              "          const docLinkHtml = 'Like what you see? Visit the ' +\n",
              "            '<a target=\"_blank\" href=https://colab.research.google.com/notebooks/data_table.ipynb>data table notebook</a>'\n",
              "            + ' to learn more about interactive tables.';\n",
              "          element.innerHTML = '';\n",
              "          dataTable['output_type'] = 'display_data';\n",
              "          await google.colab.output.renderOutput(dataTable, element);\n",
              "          const docLink = document.createElement('div');\n",
              "          docLink.innerHTML = docLinkHtml;\n",
              "          element.appendChild(docLink);\n",
              "        }\n",
              "      </script>\n",
              "    </div>\n",
              "  </div>\n",
              "  "
            ]
          },
          "metadata": {},
          "execution_count": 17
        }
      ]
    }
  ]
}