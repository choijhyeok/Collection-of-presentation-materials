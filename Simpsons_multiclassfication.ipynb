{
  "nbformat": 4,
  "nbformat_minor": 0,
  "metadata": {
    "colab": {
      "provenance": [],
      "machine_shape": "hm"
    },
    "kernelspec": {
      "name": "python3",
      "display_name": "Python 3"
    },
    "language_info": {
      "name": "python"
    },
    "accelerator": "GPU",
    "gpuClass": "standard",
    "widgets": {
      "application/vnd.jupyter.widget-state+json": {
        "df74e88db6de4496a0e43091fa30fe37": {
          "model_module": "@jupyter-widgets/controls",
          "model_name": "HBoxModel",
          "model_module_version": "1.5.0",
          "state": {
            "_dom_classes": [],
            "_model_module": "@jupyter-widgets/controls",
            "_model_module_version": "1.5.0",
            "_model_name": "HBoxModel",
            "_view_count": null,
            "_view_module": "@jupyter-widgets/controls",
            "_view_module_version": "1.5.0",
            "_view_name": "HBoxView",
            "box_style": "",
            "children": [
              "IPY_MODEL_d8fa381dc7e647ffa09383897905252e",
              "IPY_MODEL_c8a87038d0c6422b8215aaf596a68d1e",
              "IPY_MODEL_d4cf2c2404d745d8a10b7cf60b2c05ab"
            ],
            "layout": "IPY_MODEL_713b21bb2a6a4bd08c1faded3aaa0939"
          }
        },
        "d8fa381dc7e647ffa09383897905252e": {
          "model_module": "@jupyter-widgets/controls",
          "model_name": "HTMLModel",
          "model_module_version": "1.5.0",
          "state": {
            "_dom_classes": [],
            "_model_module": "@jupyter-widgets/controls",
            "_model_module_version": "1.5.0",
            "_model_name": "HTMLModel",
            "_view_count": null,
            "_view_module": "@jupyter-widgets/controls",
            "_view_module_version": "1.5.0",
            "_view_name": "HTMLView",
            "description": "",
            "description_tooltip": null,
            "layout": "IPY_MODEL_df7dab9d88d048c284fdd57adf664600",
            "placeholder": "​",
            "style": "IPY_MODEL_3e97375cb76e4039be6429b3612bb05f",
            "value": "100%"
          }
        },
        "c8a87038d0c6422b8215aaf596a68d1e": {
          "model_module": "@jupyter-widgets/controls",
          "model_name": "FloatProgressModel",
          "model_module_version": "1.5.0",
          "state": {
            "_dom_classes": [],
            "_model_module": "@jupyter-widgets/controls",
            "_model_module_version": "1.5.0",
            "_model_name": "FloatProgressModel",
            "_view_count": null,
            "_view_module": "@jupyter-widgets/controls",
            "_view_module_version": "1.5.0",
            "_view_name": "ProgressView",
            "bar_style": "success",
            "description": "",
            "description_tooltip": null,
            "layout": "IPY_MODEL_2cd0a05fb8d2479eb7363bdc6f2a9898",
            "max": 102530333,
            "min": 0,
            "orientation": "horizontal",
            "style": "IPY_MODEL_b79ba78e76d2415889e3c5b02417bef2",
            "value": 102530333
          }
        },
        "d4cf2c2404d745d8a10b7cf60b2c05ab": {
          "model_module": "@jupyter-widgets/controls",
          "model_name": "HTMLModel",
          "model_module_version": "1.5.0",
          "state": {
            "_dom_classes": [],
            "_model_module": "@jupyter-widgets/controls",
            "_model_module_version": "1.5.0",
            "_model_name": "HTMLModel",
            "_view_count": null,
            "_view_module": "@jupyter-widgets/controls",
            "_view_module_version": "1.5.0",
            "_view_name": "HTMLView",
            "description": "",
            "description_tooltip": null,
            "layout": "IPY_MODEL_e0545484d04a4083a06b5f6449f9ec35",
            "placeholder": "​",
            "style": "IPY_MODEL_105e3b5138014ea8b4551ea3e7aeb12a",
            "value": " 97.8M/97.8M [00:05&lt;00:00, 22.2MB/s]"
          }
        },
        "713b21bb2a6a4bd08c1faded3aaa0939": {
          "model_module": "@jupyter-widgets/base",
          "model_name": "LayoutModel",
          "model_module_version": "1.2.0",
          "state": {
            "_model_module": "@jupyter-widgets/base",
            "_model_module_version": "1.2.0",
            "_model_name": "LayoutModel",
            "_view_count": null,
            "_view_module": "@jupyter-widgets/base",
            "_view_module_version": "1.2.0",
            "_view_name": "LayoutView",
            "align_content": null,
            "align_items": null,
            "align_self": null,
            "border": null,
            "bottom": null,
            "display": null,
            "flex": null,
            "flex_flow": null,
            "grid_area": null,
            "grid_auto_columns": null,
            "grid_auto_flow": null,
            "grid_auto_rows": null,
            "grid_column": null,
            "grid_gap": null,
            "grid_row": null,
            "grid_template_areas": null,
            "grid_template_columns": null,
            "grid_template_rows": null,
            "height": null,
            "justify_content": null,
            "justify_items": null,
            "left": null,
            "margin": null,
            "max_height": null,
            "max_width": null,
            "min_height": null,
            "min_width": null,
            "object_fit": null,
            "object_position": null,
            "order": null,
            "overflow": null,
            "overflow_x": null,
            "overflow_y": null,
            "padding": null,
            "right": null,
            "top": null,
            "visibility": null,
            "width": null
          }
        },
        "df7dab9d88d048c284fdd57adf664600": {
          "model_module": "@jupyter-widgets/base",
          "model_name": "LayoutModel",
          "model_module_version": "1.2.0",
          "state": {
            "_model_module": "@jupyter-widgets/base",
            "_model_module_version": "1.2.0",
            "_model_name": "LayoutModel",
            "_view_count": null,
            "_view_module": "@jupyter-widgets/base",
            "_view_module_version": "1.2.0",
            "_view_name": "LayoutView",
            "align_content": null,
            "align_items": null,
            "align_self": null,
            "border": null,
            "bottom": null,
            "display": null,
            "flex": null,
            "flex_flow": null,
            "grid_area": null,
            "grid_auto_columns": null,
            "grid_auto_flow": null,
            "grid_auto_rows": null,
            "grid_column": null,
            "grid_gap": null,
            "grid_row": null,
            "grid_template_areas": null,
            "grid_template_columns": null,
            "grid_template_rows": null,
            "height": null,
            "justify_content": null,
            "justify_items": null,
            "left": null,
            "margin": null,
            "max_height": null,
            "max_width": null,
            "min_height": null,
            "min_width": null,
            "object_fit": null,
            "object_position": null,
            "order": null,
            "overflow": null,
            "overflow_x": null,
            "overflow_y": null,
            "padding": null,
            "right": null,
            "top": null,
            "visibility": null,
            "width": null
          }
        },
        "3e97375cb76e4039be6429b3612bb05f": {
          "model_module": "@jupyter-widgets/controls",
          "model_name": "DescriptionStyleModel",
          "model_module_version": "1.5.0",
          "state": {
            "_model_module": "@jupyter-widgets/controls",
            "_model_module_version": "1.5.0",
            "_model_name": "DescriptionStyleModel",
            "_view_count": null,
            "_view_module": "@jupyter-widgets/base",
            "_view_module_version": "1.2.0",
            "_view_name": "StyleView",
            "description_width": ""
          }
        },
        "2cd0a05fb8d2479eb7363bdc6f2a9898": {
          "model_module": "@jupyter-widgets/base",
          "model_name": "LayoutModel",
          "model_module_version": "1.2.0",
          "state": {
            "_model_module": "@jupyter-widgets/base",
            "_model_module_version": "1.2.0",
            "_model_name": "LayoutModel",
            "_view_count": null,
            "_view_module": "@jupyter-widgets/base",
            "_view_module_version": "1.2.0",
            "_view_name": "LayoutView",
            "align_content": null,
            "align_items": null,
            "align_self": null,
            "border": null,
            "bottom": null,
            "display": null,
            "flex": null,
            "flex_flow": null,
            "grid_area": null,
            "grid_auto_columns": null,
            "grid_auto_flow": null,
            "grid_auto_rows": null,
            "grid_column": null,
            "grid_gap": null,
            "grid_row": null,
            "grid_template_areas": null,
            "grid_template_columns": null,
            "grid_template_rows": null,
            "height": null,
            "justify_content": null,
            "justify_items": null,
            "left": null,
            "margin": null,
            "max_height": null,
            "max_width": null,
            "min_height": null,
            "min_width": null,
            "object_fit": null,
            "object_position": null,
            "order": null,
            "overflow": null,
            "overflow_x": null,
            "overflow_y": null,
            "padding": null,
            "right": null,
            "top": null,
            "visibility": null,
            "width": null
          }
        },
        "b79ba78e76d2415889e3c5b02417bef2": {
          "model_module": "@jupyter-widgets/controls",
          "model_name": "ProgressStyleModel",
          "model_module_version": "1.5.0",
          "state": {
            "_model_module": "@jupyter-widgets/controls",
            "_model_module_version": "1.5.0",
            "_model_name": "ProgressStyleModel",
            "_view_count": null,
            "_view_module": "@jupyter-widgets/base",
            "_view_module_version": "1.2.0",
            "_view_name": "StyleView",
            "bar_color": null,
            "description_width": ""
          }
        },
        "e0545484d04a4083a06b5f6449f9ec35": {
          "model_module": "@jupyter-widgets/base",
          "model_name": "LayoutModel",
          "model_module_version": "1.2.0",
          "state": {
            "_model_module": "@jupyter-widgets/base",
            "_model_module_version": "1.2.0",
            "_model_name": "LayoutModel",
            "_view_count": null,
            "_view_module": "@jupyter-widgets/base",
            "_view_module_version": "1.2.0",
            "_view_name": "LayoutView",
            "align_content": null,
            "align_items": null,
            "align_self": null,
            "border": null,
            "bottom": null,
            "display": null,
            "flex": null,
            "flex_flow": null,
            "grid_area": null,
            "grid_auto_columns": null,
            "grid_auto_flow": null,
            "grid_auto_rows": null,
            "grid_column": null,
            "grid_gap": null,
            "grid_row": null,
            "grid_template_areas": null,
            "grid_template_columns": null,
            "grid_template_rows": null,
            "height": null,
            "justify_content": null,
            "justify_items": null,
            "left": null,
            "margin": null,
            "max_height": null,
            "max_width": null,
            "min_height": null,
            "min_width": null,
            "object_fit": null,
            "object_position": null,
            "order": null,
            "overflow": null,
            "overflow_x": null,
            "overflow_y": null,
            "padding": null,
            "right": null,
            "top": null,
            "visibility": null,
            "width": null
          }
        },
        "105e3b5138014ea8b4551ea3e7aeb12a": {
          "model_module": "@jupyter-widgets/controls",
          "model_name": "DescriptionStyleModel",
          "model_module_version": "1.5.0",
          "state": {
            "_model_module": "@jupyter-widgets/controls",
            "_model_module_version": "1.5.0",
            "_model_name": "DescriptionStyleModel",
            "_view_count": null,
            "_view_module": "@jupyter-widgets/base",
            "_view_module_version": "1.2.0",
            "_view_name": "StyleView",
            "description_width": ""
          }
        }
      }
    }
  },
  "cells": [
    {
      "cell_type": "markdown",
      "source": [
        "# Kaggle simpsons data example"
      ],
      "metadata": {
        "id": "RaeMjpQNOLBV"
      }
    },
    {
      "cell_type": "markdown",
      "source": [
        "- simpsons 데이터를 통한 classification\n",
        "- 최종 결과 시각화"
      ],
      "metadata": {
        "id": "N9bWbmH-OSYx"
      }
    },
    {
      "cell_type": "markdown",
      "source": [
        "&nbsp;\n"
      ],
      "metadata": {
        "id": "CWpUIRgHOQqf"
      }
    },
    {
      "cell_type": "markdown",
      "source": [
        "## Kaggle data 불러오기"
      ],
      "metadata": {
        "id": "2roM_-Cvntfo"
      }
    },
    {
      "cell_type": "code",
      "source": [
        "# Kaggle json 넣기\n",
        "!pip install kaggle\n",
        "from google.colab import files\n",
        "files.upload()"
      ],
      "metadata": {
        "id": "LjdEzE-eRv3A"
      },
      "execution_count": null,
      "outputs": []
    },
    {
      "cell_type": "code",
      "source": [
        "# 데이터 다운로드 kaggle api\n",
        "!mkdir -p ~/.kaggle\n",
        "!cp kaggle.json ~/.kaggle/kaggle.json\n",
        "!chmod 600 ~/.kaggle/kaggle.json\n",
        "!ls -al ~/.kaggle/\n",
        "\n",
        "\n",
        "!kaggle datasets download -d alexattia/the-simpsons-characters-dataset\n",
        "!unzip -qq \"the-simpsons-characters-dataset.zip\""
      ],
      "metadata": {
        "colab": {
          "base_uri": "https://localhost:8080/"
        },
        "id": "vfqvCPonZyyn",
        "outputId": "9fd0f01f-7fca-4eb4-fe6a-f81ed3419095"
      },
      "execution_count": null,
      "outputs": [
        {
          "output_type": "stream",
          "name": "stdout",
          "text": [
            "total 16\n",
            "drwxr-xr-x 2 root root 4096 Dec 10 08:50 .\n",
            "drwx------ 1 root root 4096 Dec 10 08:50 ..\n",
            "-rw------- 1 root root   70 Dec 10 08:50 kaggle.json\n",
            "Downloading the-simpsons-characters-dataset.zip to /content\n",
            "100% 1.08G/1.08G [00:38<00:00, 30.3MB/s]\n",
            "100% 1.08G/1.08G [00:38<00:00, 29.8MB/s]\n"
          ]
        }
      ]
    },
    {
      "cell_type": "markdown",
      "source": [
        "## 사용할 패키지 불러오기"
      ],
      "metadata": {
        "id": "oCzbJh83Ss1-"
      }
    },
    {
      "cell_type": "code",
      "source": [
        "import torch\n",
        "import torch.nn as nn\n",
        "import torch.optim as optim\n",
        "from torch.optim import lr_scheduler\n",
        "from torch.autograd import Variable\n",
        "import numpy as np\n",
        "import torchvision\n",
        "from torch.utils.data import DataLoader\n",
        "from torchvision import datasets, models, transforms\n",
        "import matplotlib.pyplot as plt\n",
        "from google.colab.patches import cv2_imshow\n",
        "import os\n",
        "import shutil\n",
        "import cv2\n",
        "from tqdm import tqdm\n",
        "import copy\n",
        "from glob import glob\n",
        "from torchvision.utils import make_grid\n",
        "from torch.utils.data.sampler import SubsetRandomSampler"
      ],
      "metadata": {
        "id": "qAGiOJTyb_WJ"
      },
      "execution_count": null,
      "outputs": []
    },
    {
      "cell_type": "markdown",
      "source": [
        "&nbsp;"
      ],
      "metadata": {
        "id": "mx_eW0y1S-cC"
      }
    },
    {
      "cell_type": "markdown",
      "source": [
        "## 이미지 증분 및 train : val 분할"
      ],
      "metadata": {
        "id": "SHeeImA6TW5u"
      }
    },
    {
      "cell_type": "code",
      "source": [
        "# train, val, test dataset 정의\n",
        "def train_val(image_dir, ratio, transforms, batch):\n",
        "\n",
        "  train_data = datasets.ImageFolder(image_dir, transforms)\n",
        "  train_val_ratio = ratio\n",
        "\n",
        "  # train, val 분할\n",
        "  num_train = len(train_data)\n",
        "  indices = list(range(num_train))\n",
        "  np.random.shuffle(indices) # shuffle\n",
        "  split = int(np.floor(train_val_ratio * num_train))\n",
        "  train_idx, valid_idx = indices[split:], indices[:split]\n",
        "\n",
        "  # batch sampler 정의\n",
        "  train_sampler = SubsetRandomSampler(train_idx)\n",
        "  valid_sampler = SubsetRandomSampler(valid_idx)\n",
        "\n",
        "  # dataloader\n",
        "  train_loader = DataLoader(train_data,\n",
        "                            batch_size = batch,\n",
        "                            sampler = train_sampler,\n",
        "                            num_workers = 2)\n",
        "\n",
        "  val_loader = DataLoader(train_data,\n",
        "                            batch_size = batch,\n",
        "                            sampler = train_sampler,\n",
        "                            num_workers = 2)\n",
        "\n",
        "\n",
        "  return train_loader, val_loader , train_data.classes\n",
        "\n",
        "# 이미지 전처리 지정\n",
        "data_transforms = transforms.Compose([\n",
        "          transforms.Resize((256,256)),\n",
        "          transforms.RandomHorizontalFlip(),\n",
        "          transforms.ToTensor(),\n",
        "          transforms.Normalize([0.485, 0.456, 0.406], [0.229, 0.224, 0.225])\n",
        "      ])\n",
        "\n",
        "\n",
        "train_loader, val_loader, class_name = train_val('/content/simpsons_dataset/simpsons_dataset', 0.2, data_transforms, 32)"
      ],
      "metadata": {
        "id": "G5xMyPhzXsRB"
      },
      "execution_count": null,
      "outputs": []
    },
    {
      "cell_type": "markdown",
      "source": [
        "&nbsp;"
      ],
      "metadata": {
        "id": "iAKWluw4f27z"
      }
    },
    {
      "cell_type": "markdown",
      "source": [
        "## 데이터 시각화"
      ],
      "metadata": {
        "id": "6355NP0af4Qd"
      }
    },
    {
      "cell_type": "code",
      "source": [
        "def show_image(image):\n",
        "  image_test = image.numpy().transpose((1,2,0))\n",
        "  mean = np.array([0.485, 0.456, 0.406])\n",
        "  std = np.array([0.229, 0.224, 0.225])\n",
        "  image_test = std * image_test + mean\n",
        "  image_test = np.clip(image_test, 0, 1)\n",
        "\n",
        "  plt.imshow(image_test)\n",
        "  # plt.title(label)\n",
        "  plt.show()"
      ],
      "metadata": {
        "id": "Pke6YSCKf1PM"
      },
      "execution_count": null,
      "outputs": []
    },
    {
      "cell_type": "code",
      "source": [
        "# 배치별 데이터 가져오기\n",
        "iterator = iter(train_loader)\n",
        "\n",
        "# 배치 중에서 하나꺼내서 시각화\n",
        "images, classes = next(iterator)\n",
        "image = make_grid(images)\n",
        "\n",
        "show_image(image)\n",
        "print(f'class : {[class_name[i] for i in classes]}')"
      ],
      "metadata": {
        "colab": {
          "base_uri": "https://localhost:8080/",
          "height": 258
        },
        "id": "8s2pVRkDejjZ",
        "outputId": "d236fed0-c8d4-4c1e-961d-23520bc66d98"
      },
      "execution_count": null,
      "outputs": [
        {
          "output_type": "display_data",
          "data": {
            "text/plain": [
              "<Figure size 432x288 with 1 Axes>"
            ],
            "image/png": "[encoded data removed]"
          },
          "metadata": {
            "needs_background": "light"
          }
        },
        {
          "output_type": "stream",
          "name": "stdout",
          "text": [
            "class : ['krusty_the_clown', 'marge_simpson', 'homer_simpson', 'ned_flanders', 'edna_krabappel', 'abraham_grampa_simpson', 'lisa_simpson', 'homer_simpson', 'mayor_quimby', 'marge_simpson', 'krusty_the_clown', 'moe_szyslak', 'homer_simpson', 'marge_simpson', 'lisa_simpson', 'lisa_simpson', 'moe_szyslak', 'moe_szyslak', 'lisa_simpson', 'homer_simpson', 'krusty_the_clown', 'marge_simpson', 'bart_simpson', 'moe_szyslak', 'ned_flanders', 'milhouse_van_houten', 'chief_wiggum', 'charles_montgomery_burns', 'professor_john_frink', 'bart_simpson', 'marge_simpson', 'abraham_grampa_simpson']\n"
          ]
        }
      ]
    },
    {
      "cell_type": "markdown",
      "source": [
        "&nbsp;"
      ],
      "metadata": {
        "id": "3ZHUVDlviqRo"
      }
    },
    {
      "cell_type": "markdown",
      "source": [
        "## 모델 설계"
      ],
      "metadata": {
        "id": "sdFJGhScirjQ"
      }
    },
    {
      "cell_type": "code",
      "source": [
        "# 마지막 layer 변경\n",
        "model_classification = torchvision.models.resnet50(pretrained=True)\n",
        "num_fc = model_classification.fc.in_features\n",
        "model_classification.fc = nn.Linear(num_fc, len(class_name))\n",
        "\n",
        "\n",
        "# loss 지정\n",
        "criterion = nn.CrossEntropyLoss()\n",
        "\n",
        "# optimizer 설정\n",
        "optimizer = optim.Adam(model_classification.parameters(), lr=0.001)\n",
        "\n",
        "# gpu\n",
        "device = torch.device(\"cuda:0\" if torch.cuda.is_available() else \"cpu\")\n",
        "\n",
        "model = model_classification.to(device)\n",
        "\n",
        "# epoch\n",
        "num_epochs = 100\n",
        "min_loss = int(1e9)"
      ],
      "metadata": {
        "id": "O5Z-FI7eirQT",
        "colab": {
          "base_uri": "https://localhost:8080/",
          "height": 162,
          "referenced_widgets": [
            "df74e88db6de4496a0e43091fa30fe37",
            "d8fa381dc7e647ffa09383897905252e",
            "c8a87038d0c6422b8215aaf596a68d1e",
            "d4cf2c2404d745d8a10b7cf60b2c05ab",
            "713b21bb2a6a4bd08c1faded3aaa0939",
            "df7dab9d88d048c284fdd57adf664600",
            "3e97375cb76e4039be6429b3612bb05f",
            "2cd0a05fb8d2479eb7363bdc6f2a9898",
            "b79ba78e76d2415889e3c5b02417bef2",
            "e0545484d04a4083a06b5f6449f9ec35",
            "105e3b5138014ea8b4551ea3e7aeb12a"
          ]
        },
        "outputId": "ead17469-50bb-47cd-b6e6-878202a3ceb0"
      },
      "execution_count": null,
      "outputs": [
        {
          "output_type": "stream",
          "name": "stderr",
          "text": [
            "/usr/local/lib/python3.8/dist-packages/torchvision/models/_utils.py:208: UserWarning: The parameter 'pretrained' is deprecated since 0.13 and may be removed in the future, please use 'weights' instead.\n",
            "  warnings.warn(\n",
            "/usr/local/lib/python3.8/dist-packages/torchvision/models/_utils.py:223: UserWarning: Arguments other than a weight enum or `None` for 'weights' are deprecated since 0.13 and may be removed in the future. The current behavior is equivalent to passing `weights=ResNet50_Weights.IMAGENET1K_V1`. You can also use `weights=ResNet50_Weights.DEFAULT` to get the most up-to-date weights.\n",
            "  warnings.warn(msg)\n",
            "Downloading: \"https://download.pytorch.org/models/resnet50-0676ba61.pth\" to /root/.cache/torch/hub/checkpoints/resnet50-0676ba61.pth\n"
          ]
        },
        {
          "output_type": "display_data",
          "data": {
            "text/plain": [
              "  0%|          | 0.00/97.8M [00:00<?, ?B/s]"
            ],
            "application/vnd.jupyter.widget-view+json": {
              "version_major": 2,
              "version_minor": 0,
              "model_id": "df74e88db6de4496a0e43091fa30fe37"
            }
          },
          "metadata": {}
        }
      ]
    },
    {
      "cell_type": "markdown",
      "source": [
        "&nbsp;"
      ],
      "metadata": {
        "id": "4xwVq9m5k5Ut"
      }
    },
    {
      "cell_type": "markdown",
      "source": [
        "## 모델 훈련"
      ],
      "metadata": {
        "id": "K_TPi1Sxk7fk"
      }
    },
    {
      "cell_type": "code",
      "source": [
        "def model_train(model, data_loader, loss_fn, optimizer, device):\n",
        "\n",
        "    model.train()\n",
        "\n",
        "    # loss와 accuracy 계산을 위한 임시 변수 입니다. 0으로 초기화합니다.\n",
        "    running_loss = 0\n",
        "    corr = 0\n",
        "\n",
        "    # mini-batch 학습을 시작합니다.\n",
        "    for img, lbl in tqdm(data_loader):\n",
        "        # image, label 데이터를 device에 올립니다.\n",
        "        img, lbl = img.to(device), lbl.to(device)\n",
        "\n",
        "        # 누적 Gradient를 초기화\n",
        "        optimizer.zero_grad()\n",
        "\n",
        "        output = model(img)\n",
        "\n",
        "        # 손실 계산\n",
        "        loss = loss_fn(output, lbl)\n",
        "\n",
        "        # 미분 값을 계산\n",
        "        loss.backward()\n",
        "\n",
        "        # 계산된 Gradient를 업데이트\n",
        "        optimizer.step()\n",
        "\n",
        "        # output의 max(dim=1)은 max probability와 max index를 반환\n",
        "        # max probability는 무시하고, max index는 pred에 저장하여 label 값과 대조하여 정확도를 계산\n",
        "        _, pred = output.max(dim=1)\n",
        "\n",
        "        # 정확히 맞춘 label의 합계를 계산\n",
        "        corr += pred.eq(lbl).sum().item()\n",
        "\n",
        "        # 평균 손실(loss) *  배치사이즈(batch size) =  배치의 전체 loss가 계산\n",
        "        # 이를 누적한 뒤 Epoch 종료시 전체 데이터셋의 개수로 나누어 평균 loss를 산출\n",
        "        running_loss += loss.item() * img.size(0)\n",
        "\n",
        "    # 누적된 정답수를 전체 개수로 나누어 주면 정확도 계산\n",
        "    acc = corr / len(data_loader.dataset)\n",
        "\n",
        "    # 평균 손실(loss)과 정확도를 반환\n",
        "    return running_loss / len(data_loader.dataset), acc"
      ],
      "metadata": {
        "id": "qBI_Mk05mZ4Z"
      },
      "execution_count": null,
      "outputs": []
    },
    {
      "cell_type": "code",
      "source": [
        "def model_evaluate(model, data_loader, loss_fn, device):\n",
        "    # model.eval()은 모델을 평가모드로 설정\n",
        "    model.eval()\n",
        "\n",
        "    # Gradient 업데이트 방지\n",
        "    with torch.no_grad():\n",
        "\n",
        "        corr = 0\n",
        "        running_loss = 0\n",
        "\n",
        "\n",
        "        for img, lbl in tqdm(data_loader):\n",
        "            img, lbl = img.to(device), lbl.to(device)\n",
        "            output = model(img)\n",
        "            _, pred = output.max(dim=1)\n",
        "            corr += torch.sum(pred.eq(lbl)).item()\n",
        "            running_loss += loss_fn(output, lbl).item() * img.size(0)\n",
        "\n",
        "        acc = corr / len(data_loader.dataset)\n",
        "\n",
        "        return running_loss / len(data_loader.dataset), acc"
      ],
      "metadata": {
        "id": "Uh7fFPaemqHx"
      },
      "execution_count": null,
      "outputs": []
    },
    {
      "cell_type": "code",
      "source": [
        "# Epoch 별 훈련 및 검증을 수행합니다.\n",
        "for epoch in range(num_epochs):\n",
        "    # 훈련 손실과 정확도를 반환\n",
        "    train_loss, train_acc = model_train(model, train_loader, criterion, optimizer, device)\n",
        "\n",
        "    # 검증 손실과 검증 정확도 반환\n",
        "    val_loss, val_acc = model_evaluate(model, val_loader, criterion, device)\n",
        "\n",
        "    # val_loss 가 개선되었다면 min_loss를 갱신, model의 가중치(weights)를 저장\n",
        "    if val_loss < min_loss:\n",
        "        print(f'model loss 갱신 {min_loss:.5f} -> {val_loss:.5f}')\n",
        "        min_loss = val_loss\n",
        "        torch.save(model.state_dict(), 'best_model.pth')\n",
        "\n",
        "    # Epoch 별 결과를 출력\n",
        "    print(f'epoch {epoch+1:02d}, loss: {train_loss:.5f}, acc: {train_acc:.5f}, val_loss: {val_loss:.5f}, val_accuracy: {val_acc:.5f}')"
      ],
      "metadata": {
        "colab": {
          "base_uri": "https://localhost:8080/"
        },
        "id": "kxBiwq28wjAi",
        "outputId": "c7ce1e49-35c6-4530-c5b2-113311b52c38"
      },
      "execution_count": null,
      "outputs": [
        {
          "metadata": {
            "tags": null
          },
          "name": "stderr",
          "output_type": "stream",
          "text": [
            "100%|██████████| 524/524 [03:35<00:00,  2.43it/s]\n",
            "100%|██████████| 524/524 [01:05<00:00,  7.98it/s]\n"
          ]
        },
        {
          "metadata": {
            "tags": null
          },
          "name": "stdout",
          "output_type": "stream",
          "text": [
            "model loss 갱신 1000000000.00000 -> 0.45207\n",
            "epoch 01, loss: 0.83220, acc: 0.59117, val_loss: 0.45207, val_accuracy: 0.67582\n"
          ]
        },
        {
          "metadata": {
            "tags": null
          },
          "name": "stderr",
          "output_type": "stream",
          "text": [
            "100%|██████████| 524/524 [03:29<00:00,  2.51it/s]\n",
            "100%|██████████| 524/524 [01:05<00:00,  8.02it/s]\n"
          ]
        },
        {
          "metadata": {
            "tags": null
          },
          "name": "stdout",
          "output_type": "stream",
          "text": [
            "model loss 갱신 0.45207 -> 0.33608\n",
            "epoch 02, loss: 0.38791, acc: 0.69388, val_loss: 0.33608, val_accuracy: 0.70711\n"
          ]
        },
        {
          "metadata": {
            "tags": null
          },
          "name": "stderr",
          "output_type": "stream",
          "text": [
            "100%|██████████| 524/524 [03:28<00:00,  2.51it/s]\n",
            "100%|██████████| 524/524 [01:04<00:00,  8.09it/s]\n"
          ]
        },
        {
          "metadata": {
            "tags": null
          },
          "name": "stdout",
          "output_type": "stream",
          "text": [
            "model loss 갱신 0.33608 -> 0.29042\n",
            "epoch 03, loss: 0.28929, acc: 0.72173, val_loss: 0.29042, val_accuracy: 0.71457\n"
          ]
        },
        {
          "metadata": {
            "tags": null
          },
          "name": "stderr",
          "output_type": "stream",
          "text": [
            "100%|██████████| 524/524 [03:28<00:00,  2.51it/s]\n",
            "100%|██████████| 524/524 [01:06<00:00,  7.93it/s]\n"
          ]
        },
        {
          "metadata": {
            "tags": null
          },
          "name": "stdout",
          "output_type": "stream",
          "text": [
            "model loss 갱신 0.29042 -> 0.17615\n",
            "epoch 04, loss: 0.22891, acc: 0.73807, val_loss: 0.17615, val_accuracy: 0.75078\n"
          ]
        },
        {
          "metadata": {
            "tags": null
          },
          "name": "stderr",
          "output_type": "stream",
          "text": [
            "100%|██████████| 524/524 [03:28<00:00,  2.52it/s]\n",
            "100%|██████████| 524/524 [01:05<00:00,  8.04it/s]\n"
          ]
        },
        {
          "metadata": {
            "tags": null
          },
          "name": "stdout",
          "output_type": "stream",
          "text": [
            "epoch 05, loss: 0.18388, acc: 0.74977, val_loss: 0.18804, val_accuracy: 0.74963\n"
          ]
        },
        {
          "metadata": {
            "tags": null
          },
          "name": "stderr",
          "output_type": "stream",
          "text": [
            "100%|██████████| 524/524 [03:28<00:00,  2.52it/s]\n",
            "100%|██████████| 524/524 [01:05<00:00,  8.03it/s]\n"
          ]
        },
        {
          "metadata": {
            "tags": null
          },
          "name": "stdout",
          "output_type": "stream",
          "text": [
            "epoch 06, loss: 0.16025, acc: 0.75684, val_loss: 0.17728, val_accuracy: 0.75230\n"
          ]
        },
        {
          "metadata": {
            "tags": null
          },
          "name": "stderr",
          "output_type": "stream",
          "text": [
            "100%|██████████| 524/524 [03:28<00:00,  2.52it/s]\n",
            "100%|██████████| 524/524 [01:05<00:00,  8.03it/s]\n"
          ]
        },
        {
          "metadata": {
            "tags": null
          },
          "name": "stdout",
          "output_type": "stream",
          "text": [
            "model loss 갱신 0.17615 -> 0.09174\n",
            "epoch 07, loss: 0.14753, acc: 0.75890, val_loss: 0.09174, val_accuracy: 0.77547\n"
          ]
        },
        {
          "metadata": {
            "tags": null
          },
          "name": "stderr",
          "output_type": "stream",
          "text": [
            "100%|██████████| 524/524 [03:28<00:00,  2.52it/s]\n",
            "100%|██████████| 524/524 [01:05<00:00,  8.01it/s]\n"
          ]
        },
        {
          "metadata": {
            "tags": null
          },
          "name": "stdout",
          "output_type": "stream",
          "text": [
            "model loss 갱신 0.09174 -> 0.08109\n",
            "epoch 08, loss: 0.11604, acc: 0.76840, val_loss: 0.08109, val_accuracy: 0.77648\n"
          ]
        },
        {
          "metadata": {
            "tags": null
          },
          "name": "stderr",
          "output_type": "stream",
          "text": [
            "100%|██████████| 524/524 [03:28<00:00,  2.52it/s]\n",
            "100%|██████████| 524/524 [01:04<00:00,  8.14it/s]\n"
          ]
        },
        {
          "metadata": {
            "tags": null
          },
          "name": "stdout",
          "output_type": "stream",
          "text": [
            "epoch 09, loss: 0.12077, acc: 0.76592, val_loss: 0.10375, val_accuracy: 0.77175\n"
          ]
        },
        {
          "metadata": {
            "tags": null
          },
          "name": "stderr",
          "output_type": "stream",
          "text": [
            "100%|██████████| 524/524 [03:28<00:00,  2.52it/s]\n",
            "100%|██████████| 524/524 [01:04<00:00,  8.13it/s]\n"
          ]
        },
        {
          "metadata": {
            "tags": null
          },
          "name": "stdout",
          "output_type": "stream",
          "text": [
            "model loss 갱신 0.08109 -> 0.05430\n",
            "epoch 10, loss: 0.08886, acc: 0.77528, val_loss: 0.05430, val_accuracy: 0.78474\n"
          ]
        },
        {
          "metadata": {
            "tags": null
          },
          "name": "stderr",
          "output_type": "stream",
          "text": [
            "100%|██████████| 524/524 [03:27<00:00,  2.52it/s]\n",
            "100%|██████████| 524/524 [01:04<00:00,  8.11it/s]\n"
          ]
        },
        {
          "metadata": {
            "tags": null
          },
          "name": "stdout",
          "output_type": "stream",
          "text": [
            "epoch 11, loss: 0.09424, acc: 0.77399, val_loss: 0.05955, val_accuracy: 0.78207\n"
          ]
        },
        {
          "metadata": {
            "tags": null
          },
          "name": "stderr",
          "output_type": "stream",
          "text": [
            "100%|██████████| 524/524 [03:27<00:00,  2.52it/s]\n",
            "100%|██████████| 524/524 [01:04<00:00,  8.09it/s]\n"
          ]
        },
        {
          "metadata": {
            "tags": null
          },
          "name": "stdout",
          "output_type": "stream",
          "text": [
            "epoch 12, loss: 0.09216, acc: 0.77485, val_loss: 0.08764, val_accuracy: 0.77509\n"
          ]
        },
        {
          "metadata": {
            "tags": null
          },
          "name": "stderr",
          "output_type": "stream",
          "text": [
            "100%|██████████| 524/524 [03:27<00:00,  2.52it/s]\n",
            "100%|██████████| 524/524 [01:04<00:00,  8.09it/s]\n"
          ]
        },
        {
          "metadata": {
            "tags": null
          },
          "name": "stdout",
          "output_type": "stream",
          "text": [
            "epoch 13, loss: 0.07265, acc: 0.77848, val_loss: 0.09266, val_accuracy: 0.77409\n"
          ]
        },
        {
          "metadata": {
            "tags": null
          },
          "name": "stderr",
          "output_type": "stream",
          "text": [
            "100%|██████████| 524/524 [03:27<00:00,  2.52it/s]\n",
            "100%|██████████| 524/524 [01:04<00:00,  8.13it/s]\n"
          ]
        },
        {
          "metadata": {
            "tags": null
          },
          "name": "stdout",
          "output_type": "stream",
          "text": [
            "epoch 14, loss: 0.06309, acc: 0.78245, val_loss: 0.05938, val_accuracy: 0.78216\n"
          ]
        },
        {
          "metadata": {
            "tags": null
          },
          "name": "stderr",
          "output_type": "stream",
          "text": [
            "100%|██████████| 524/524 [03:27<00:00,  2.52it/s]\n",
            "100%|██████████| 524/524 [01:04<00:00,  8.08it/s]\n"
          ]
        },
        {
          "metadata": {
            "tags": null
          },
          "name": "stdout",
          "output_type": "stream",
          "text": [
            "model loss 갱신 0.05430 -> 0.02945\n",
            "epoch 15, loss: 0.06967, acc: 0.78016, val_loss: 0.02945, val_accuracy: 0.79248\n"
          ]
        },
        {
          "metadata": {
            "tags": null
          },
          "name": "stderr",
          "output_type": "stream",
          "text": [
            "100%|██████████| 524/524 [03:27<00:00,  2.52it/s]\n",
            "100%|██████████| 524/524 [01:04<00:00,  8.13it/s]\n"
          ]
        },
        {
          "metadata": {
            "tags": null
          },
          "name": "stdout",
          "output_type": "stream",
          "text": [
            "epoch 16, loss: 0.06045, acc: 0.78259, val_loss: 0.09875, val_accuracy: 0.77065\n"
          ]
        },
        {
          "metadata": {
            "tags": null
          },
          "name": "stderr",
          "output_type": "stream",
          "text": [
            "100%|██████████| 524/524 [03:27<00:00,  2.52it/s]\n",
            "100%|██████████| 524/524 [01:04<00:00,  8.09it/s]\n"
          ]
        },
        {
          "metadata": {
            "tags": null
          },
          "name": "stdout",
          "output_type": "stream",
          "text": [
            "epoch 17, loss: 0.05050, acc: 0.78522, val_loss: 0.08015, val_accuracy: 0.77805\n"
          ]
        },
        {
          "metadata": {
            "tags": null
          },
          "name": "stderr",
          "output_type": "stream",
          "text": [
            "100%|██████████| 524/524 [03:27<00:00,  2.52it/s]\n",
            "100%|██████████| 524/524 [01:04<00:00,  8.08it/s]\n"
          ]
        },
        {
          "metadata": {
            "tags": null
          },
          "name": "stdout",
          "output_type": "stream",
          "text": [
            "epoch 18, loss: 0.04634, acc: 0.78737, val_loss: 0.05832, val_accuracy: 0.78307\n"
          ]
        },
        {
          "metadata": {
            "tags": null
          },
          "name": "stderr",
          "output_type": "stream",
          "text": [
            "100%|██████████| 524/524 [03:27<00:00,  2.52it/s]\n",
            "100%|██████████| 524/524 [01:04<00:00,  8.07it/s]\n"
          ]
        },
        {
          "metadata": {
            "tags": null
          },
          "name": "stdout",
          "output_type": "stream",
          "text": [
            "model loss 갱신 0.02945 -> 0.02585\n",
            "epoch 19, loss: 0.05687, acc: 0.78465, val_loss: 0.02585, val_accuracy: 0.79229\n"
          ]
        },
        {
          "metadata": {
            "tags": null
          },
          "name": "stderr",
          "output_type": "stream",
          "text": [
            "100%|██████████| 524/524 [03:27<00:00,  2.53it/s]\n",
            "100%|██████████| 524/524 [01:05<00:00,  8.03it/s]\n"
          ]
        },
        {
          "metadata": {
            "tags": null
          },
          "name": "stdout",
          "output_type": "stream",
          "text": [
            "epoch 20, loss: 0.03808, acc: 0.78985, val_loss: 0.12300, val_accuracy: 0.77094\n"
          ]
        },
        {
          "metadata": {
            "tags": null
          },
          "name": "stderr",
          "output_type": "stream",
          "text": [
            "100%|██████████| 524/524 [03:27<00:00,  2.53it/s]\n",
            "100%|██████████| 524/524 [01:04<00:00,  8.14it/s]\n"
          ]
        },
        {
          "metadata": {
            "tags": null
          },
          "name": "stdout",
          "output_type": "stream",
          "text": [
            "epoch 21, loss: 0.03824, acc: 0.78890, val_loss: 0.02652, val_accuracy: 0.79310\n"
          ]
        },
        {
          "metadata": {
            "tags": null
          },
          "name": "stderr",
          "output_type": "stream",
          "text": [
            "100%|██████████| 524/524 [03:27<00:00,  2.52it/s]\n",
            "100%|██████████| 524/524 [01:04<00:00,  8.13it/s]\n"
          ]
        },
        {
          "metadata": {
            "tags": null
          },
          "name": "stdout",
          "output_type": "stream",
          "text": [
            "epoch 22, loss: 0.04507, acc: 0.78708, val_loss: 0.03057, val_accuracy: 0.79076\n"
          ]
        },
        {
          "metadata": {
            "tags": null
          },
          "name": "stderr",
          "output_type": "stream",
          "text": [
            "100%|██████████| 524/524 [03:27<00:00,  2.53it/s]\n",
            "100%|██████████| 524/524 [01:05<00:00,  8.04it/s]\n"
          ]
        },
        {
          "metadata": {
            "tags": null
          },
          "name": "stdout",
          "output_type": "stream",
          "text": [
            "model loss 갱신 0.02585 -> 0.01135\n",
            "epoch 23, loss: 0.04620, acc: 0.78627, val_loss: 0.01135, val_accuracy: 0.79668\n"
          ]
        },
        {
          "metadata": {
            "tags": null
          },
          "name": "stderr",
          "output_type": "stream",
          "text": [
            "100%|██████████| 524/524 [03:27<00:00,  2.53it/s]\n",
            "100%|██████████| 524/524 [01:04<00:00,  8.07it/s]\n"
          ]
        },
        {
          "metadata": {
            "tags": null
          },
          "name": "stdout",
          "output_type": "stream",
          "text": [
            "epoch 24, loss: 0.02713, acc: 0.79215, val_loss: 0.01566, val_accuracy: 0.79602\n"
          ]
        },
        {
          "metadata": {
            "tags": null
          },
          "name": "stderr",
          "output_type": "stream",
          "text": [
            "100%|██████████| 524/524 [03:27<00:00,  2.52it/s]\n",
            "100%|██████████| 524/524 [01:04<00:00,  8.09it/s]\n"
          ]
        },
        {
          "metadata": {
            "tags": null
          },
          "name": "stdout",
          "output_type": "stream",
          "text": [
            "epoch 25, loss: 0.03875, acc: 0.78818, val_loss: 0.02048, val_accuracy: 0.79444\n"
          ]
        },
        {
          "metadata": {
            "tags": null
          },
          "name": "stderr",
          "output_type": "stream",
          "text": [
            "100%|██████████| 524/524 [03:27<00:00,  2.52it/s]\n",
            "100%|██████████| 524/524 [01:05<00:00,  8.05it/s]\n"
          ]
        },
        {
          "metadata": {
            "tags": null
          },
          "name": "stdout",
          "output_type": "stream",
          "text": [
            "epoch 26, loss: 0.02933, acc: 0.79186, val_loss: 0.01491, val_accuracy: 0.79592\n"
          ]
        },
        {
          "metadata": {
            "tags": null
          },
          "name": "stderr",
          "output_type": "stream",
          "text": [
            "100%|██████████| 524/524 [03:27<00:00,  2.53it/s]\n",
            "100%|██████████| 524/524 [01:04<00:00,  8.08it/s]\n"
          ]
        },
        {
          "metadata": {
            "tags": null
          },
          "name": "stdout",
          "output_type": "stream",
          "text": [
            "epoch 27, loss: 0.03459, acc: 0.78890, val_loss: 0.07489, val_accuracy: 0.77896\n"
          ]
        },
        {
          "metadata": {
            "tags": null
          },
          "name": "stderr",
          "output_type": "stream",
          "text": [
            "100%|██████████| 524/524 [03:27<00:00,  2.52it/s]\n",
            "100%|██████████| 524/524 [01:04<00:00,  8.12it/s]\n"
          ]
        },
        {
          "metadata": {
            "tags": null
          },
          "name": "stdout",
          "output_type": "stream",
          "text": [
            "epoch 28, loss: 0.02229, acc: 0.79387, val_loss: 0.01622, val_accuracy: 0.79568\n"
          ]
        },
        {
          "metadata": {
            "tags": null
          },
          "name": "stderr",
          "output_type": "stream",
          "text": [
            "100%|██████████| 524/524 [03:27<00:00,  2.53it/s]\n",
            "100%|██████████| 524/524 [01:04<00:00,  8.09it/s]\n"
          ]
        },
        {
          "metadata": {
            "tags": null
          },
          "name": "stdout",
          "output_type": "stream",
          "text": [
            "epoch 29, loss: 0.03072, acc: 0.79119, val_loss: 0.01893, val_accuracy: 0.79434\n"
          ]
        },
        {
          "metadata": {
            "tags": null
          },
          "name": "stderr",
          "output_type": "stream",
          "text": [
            "100%|██████████| 524/524 [03:27<00:00,  2.52it/s]\n",
            "100%|██████████| 524/524 [01:05<00:00,  8.04it/s]\n"
          ]
        },
        {
          "metadata": {
            "tags": null
          },
          "name": "stdout",
          "output_type": "stream",
          "text": [
            "epoch 30, loss: 0.02190, acc: 0.79453, val_loss: 0.11053, val_accuracy: 0.77027\n"
          ]
        },
        {
          "metadata": {
            "tags": null
          },
          "name": "stderr",
          "output_type": "stream",
          "text": [
            "100%|██████████| 524/524 [03:27<00:00,  2.52it/s]\n",
            "100%|██████████| 524/524 [01:05<00:00,  8.04it/s]\n"
          ]
        },
        {
          "metadata": {
            "tags": null
          },
          "name": "stdout",
          "output_type": "stream",
          "text": [
            "model loss 갱신 0.01135 -> 0.00987\n",
            "epoch 31, loss: 0.02140, acc: 0.79391, val_loss: 0.00987, val_accuracy: 0.79702\n"
          ]
        },
        {
          "metadata": {
            "tags": null
          },
          "name": "stderr",
          "output_type": "stream",
          "text": [
            "100%|██████████| 524/524 [03:27<00:00,  2.53it/s]\n",
            "100%|██████████| 524/524 [01:04<00:00,  8.09it/s]\n"
          ]
        },
        {
          "metadata": {
            "tags": null
          },
          "name": "stdout",
          "output_type": "stream",
          "text": [
            "epoch 32, loss: 0.04289, acc: 0.78804, val_loss: 0.01001, val_accuracy: 0.79731\n"
          ]
        },
        {
          "metadata": {
            "tags": null
          },
          "name": "stderr",
          "output_type": "stream",
          "text": [
            "100%|██████████| 524/524 [03:27<00:00,  2.53it/s]\n",
            "100%|██████████| 524/524 [01:04<00:00,  8.10it/s]\n"
          ]
        },
        {
          "metadata": {
            "tags": null
          },
          "name": "stdout",
          "output_type": "stream",
          "text": [
            "epoch 33, loss: 0.02267, acc: 0.79401, val_loss: 0.02896, val_accuracy: 0.79062\n"
          ]
        },
        {
          "metadata": {
            "tags": null
          },
          "name": "stderr",
          "output_type": "stream",
          "text": [
            "100%|██████████| 524/524 [03:27<00:00,  2.53it/s]\n",
            "100%|██████████| 524/524 [01:04<00:00,  8.08it/s]\n"
          ]
        },
        {
          "metadata": {
            "tags": null
          },
          "name": "stdout",
          "output_type": "stream",
          "text": [
            "epoch 34, loss: 0.02932, acc: 0.79143, val_loss: 0.02463, val_accuracy: 0.79205\n"
          ]
        },
        {
          "metadata": {
            "tags": null
          },
          "name": "stderr",
          "output_type": "stream",
          "text": [
            "100%|██████████| 524/524 [03:27<00:00,  2.52it/s]\n",
            "100%|██████████| 524/524 [01:05<00:00,  8.03it/s]\n"
          ]
        },
        {
          "metadata": {
            "tags": null
          },
          "name": "stdout",
          "output_type": "stream",
          "text": [
            "model loss 갱신 0.00987 -> 0.00424\n",
            "epoch 35, loss: 0.01681, acc: 0.79539, val_loss: 0.00424, val_accuracy: 0.79907\n"
          ]
        },
        {
          "metadata": {
            "tags": null
          },
          "name": "stderr",
          "output_type": "stream",
          "text": [
            "100%|██████████| 524/524 [03:27<00:00,  2.53it/s]\n",
            "100%|██████████| 524/524 [01:04<00:00,  8.09it/s]\n"
          ]
        },
        {
          "metadata": {
            "tags": null
          },
          "name": "stdout",
          "output_type": "stream",
          "text": [
            "epoch 36, loss: 0.02269, acc: 0.79396, val_loss: 0.00870, val_accuracy: 0.79735\n"
          ]
        },
        {
          "metadata": {
            "tags": null
          },
          "name": "stderr",
          "output_type": "stream",
          "text": [
            "100%|██████████| 524/524 [03:27<00:00,  2.53it/s]\n",
            "100%|██████████| 524/524 [01:05<00:00,  8.03it/s]\n"
          ]
        },
        {
          "metadata": {
            "tags": null
          },
          "name": "stdout",
          "output_type": "stream",
          "text": [
            "epoch 37, loss: 0.01686, acc: 0.79520, val_loss: 0.00763, val_accuracy: 0.79750\n"
          ]
        },
        {
          "metadata": {
            "tags": null
          },
          "name": "stderr",
          "output_type": "stream",
          "text": [
            "100%|██████████| 524/524 [03:27<00:00,  2.53it/s]\n",
            "100%|██████████| 524/524 [01:04<00:00,  8.07it/s]\n"
          ]
        },
        {
          "metadata": {
            "tags": null
          },
          "name": "stdout",
          "output_type": "stream",
          "text": [
            "epoch 38, loss: 0.01821, acc: 0.79439, val_loss: 0.01973, val_accuracy: 0.79425\n"
          ]
        },
        {
          "metadata": {
            "tags": null
          },
          "name": "stderr",
          "output_type": "stream",
          "text": [
            "100%|██████████| 524/524 [03:27<00:00,  2.53it/s]\n",
            "100%|██████████| 524/524 [01:04<00:00,  8.10it/s]\n"
          ]
        },
        {
          "metadata": {
            "tags": null
          },
          "name": "stdout",
          "output_type": "stream",
          "text": [
            "epoch 39, loss: 0.02224, acc: 0.79368, val_loss: 0.01025, val_accuracy: 0.79764\n"
          ]
        },
        {
          "metadata": {
            "tags": null
          },
          "name": "stderr",
          "output_type": "stream",
          "text": [
            "100%|██████████| 524/524 [03:27<00:00,  2.53it/s]\n",
            "100%|██████████| 524/524 [01:04<00:00,  8.09it/s]\n"
          ]
        },
        {
          "metadata": {
            "tags": null
          },
          "name": "stdout",
          "output_type": "stream",
          "text": [
            "epoch 40, loss: 0.01160, acc: 0.79683, val_loss: 0.00826, val_accuracy: 0.79783\n"
          ]
        },
        {
          "metadata": {
            "tags": null
          },
          "name": "stderr",
          "output_type": "stream",
          "text": [
            "100%|██████████| 524/524 [03:27<00:00,  2.53it/s]\n",
            "100%|██████████| 524/524 [01:04<00:00,  8.09it/s]\n"
          ]
        },
        {
          "metadata": {
            "tags": null
          },
          "name": "stdout",
          "output_type": "stream",
          "text": [
            "epoch 41, loss: 0.02415, acc: 0.79224, val_loss: 0.02566, val_accuracy: 0.79310\n"
          ]
        },
        {
          "metadata": {
            "tags": null
          },
          "name": "stderr",
          "output_type": "stream",
          "text": [
            "100%|██████████| 524/524 [03:27<00:00,  2.53it/s]\n",
            "100%|██████████| 524/524 [01:05<00:00,  8.02it/s]\n"
          ]
        },
        {
          "metadata": {
            "tags": null
          },
          "name": "stdout",
          "output_type": "stream",
          "text": [
            "epoch 42, loss: 0.03418, acc: 0.79133, val_loss: 0.01276, val_accuracy: 0.79630\n"
          ]
        },
        {
          "metadata": {
            "tags": null
          },
          "name": "stderr",
          "output_type": "stream",
          "text": [
            "100%|██████████| 524/524 [03:27<00:00,  2.53it/s]\n",
            "100%|██████████| 524/524 [01:04<00:00,  8.11it/s]\n"
          ]
        },
        {
          "metadata": {
            "tags": null
          },
          "name": "stdout",
          "output_type": "stream",
          "text": [
            "model loss 갱신 0.00424 -> 0.00302\n",
            "epoch 43, loss: 0.01072, acc: 0.79659, val_loss: 0.00302, val_accuracy: 0.79931\n"
          ]
        },
        {
          "metadata": {
            "tags": null
          },
          "name": "stderr",
          "output_type": "stream",
          "text": [
            "100%|██████████| 524/524 [03:27<00:00,  2.53it/s]\n",
            "100%|██████████| 524/524 [01:04<00:00,  8.11it/s]\n"
          ]
        },
        {
          "metadata": {
            "tags": null
          },
          "name": "stdout",
          "output_type": "stream",
          "text": [
            "model loss 갱신 0.00302 -> 0.00221\n",
            "epoch 44, loss: 0.00247, acc: 0.79950, val_loss: 0.00221, val_accuracy: 0.79965\n"
          ]
        },
        {
          "metadata": {
            "tags": null
          },
          "name": "stderr",
          "output_type": "stream",
          "text": [
            "100%|██████████| 524/524 [03:27<00:00,  2.53it/s]\n",
            "100%|██████████| 524/524 [01:04<00:00,  8.09it/s]\n"
          ]
        },
        {
          "metadata": {
            "tags": null
          },
          "name": "stdout",
          "output_type": "stream",
          "text": [
            "epoch 45, loss: 0.02622, acc: 0.79277, val_loss: 0.01325, val_accuracy: 0.79630\n"
          ]
        },
        {
          "metadata": {
            "tags": null
          },
          "name": "stderr",
          "output_type": "stream",
          "text": [
            "100%|██████████| 524/524 [03:27<00:00,  2.53it/s]\n",
            "100%|██████████| 524/524 [01:05<00:00,  8.06it/s]\n"
          ]
        },
        {
          "metadata": {
            "tags": null
          },
          "name": "stdout",
          "output_type": "stream",
          "text": [
            "epoch 46, loss: 0.02137, acc: 0.79368, val_loss: 0.00668, val_accuracy: 0.79840\n"
          ]
        },
        {
          "metadata": {
            "tags": null
          },
          "name": "stderr",
          "output_type": "stream",
          "text": [
            "100%|██████████| 524/524 [03:27<00:00,  2.53it/s]\n",
            "100%|██████████| 524/524 [01:04<00:00,  8.11it/s]\n"
          ]
        },
        {
          "metadata": {
            "tags": null
          },
          "name": "stdout",
          "output_type": "stream",
          "text": [
            "epoch 47, loss: 0.01725, acc: 0.79525, val_loss: 0.01079, val_accuracy: 0.79678\n"
          ]
        },
        {
          "metadata": {
            "tags": null
          },
          "name": "stderr",
          "output_type": "stream",
          "text": [
            "100%|██████████| 524/524 [03:27<00:00,  2.53it/s]\n",
            "100%|██████████| 524/524 [01:04<00:00,  8.08it/s]\n"
          ]
        },
        {
          "metadata": {
            "tags": null
          },
          "name": "stdout",
          "output_type": "stream",
          "text": [
            "epoch 48, loss: 0.01281, acc: 0.79645, val_loss: 0.00354, val_accuracy: 0.79912\n"
          ]
        },
        {
          "metadata": {
            "tags": null
          },
          "name": "stderr",
          "output_type": "stream",
          "text": [
            "100%|██████████| 524/524 [03:27<00:00,  2.53it/s]\n",
            "100%|██████████| 524/524 [01:05<00:00,  8.05it/s]\n"
          ]
        },
        {
          "metadata": {
            "tags": null
          },
          "name": "stdout",
          "output_type": "stream",
          "text": [
            "epoch 49, loss: 0.01579, acc: 0.79544, val_loss: 0.05181, val_accuracy: 0.78684\n"
          ]
        },
        {
          "metadata": {
            "tags": null
          },
          "name": "stderr",
          "output_type": "stream",
          "text": [
            "100%|██████████| 524/524 [03:27<00:00,  2.53it/s]\n",
            "100%|██████████| 524/524 [01:05<00:00,  8.02it/s]\n"
          ]
        },
        {
          "metadata": {
            "tags": null
          },
          "name": "stdout",
          "output_type": "stream",
          "text": [
            "epoch 50, loss: 0.01439, acc: 0.79654, val_loss: 0.03513, val_accuracy: 0.79043\n"
          ]
        },
        {
          "metadata": {
            "tags": null
          },
          "name": "stderr",
          "output_type": "stream",
          "text": [
            "100%|██████████| 524/524 [03:27<00:00,  2.53it/s]\n",
            "100%|██████████| 524/524 [01:05<00:00,  8.06it/s]\n"
          ]
        },
        {
          "metadata": {
            "tags": null
          },
          "name": "stdout",
          "output_type": "stream",
          "text": [
            "epoch 51, loss: 0.01810, acc: 0.79487, val_loss: 0.02121, val_accuracy: 0.79411\n"
          ]
        },
        {
          "metadata": {
            "tags": null
          },
          "name": "stderr",
          "output_type": "stream",
          "text": [
            "100%|██████████| 524/524 [03:27<00:00,  2.53it/s]\n",
            "100%|██████████| 524/524 [01:05<00:00,  8.05it/s]\n"
          ]
        },
        {
          "metadata": {
            "tags": null
          },
          "name": "stdout",
          "output_type": "stream",
          "text": [
            "epoch 52, loss: 0.01568, acc: 0.79549, val_loss: 0.01820, val_accuracy: 0.79473\n"
          ]
        },
        {
          "metadata": {
            "tags": null
          },
          "name": "stderr",
          "output_type": "stream",
          "text": [
            "100%|██████████| 524/524 [03:27<00:00,  2.53it/s]\n",
            "100%|██████████| 524/524 [01:04<00:00,  8.11it/s]\n"
          ]
        },
        {
          "metadata": {
            "tags": null
          },
          "name": "stdout",
          "output_type": "stream",
          "text": [
            "epoch 53, loss: 0.02120, acc: 0.79391, val_loss: 0.00639, val_accuracy: 0.79850\n"
          ]
        },
        {
          "metadata": {
            "tags": null
          },
          "name": "stderr",
          "output_type": "stream",
          "text": [
            "100%|██████████| 524/524 [03:27<00:00,  2.53it/s]\n",
            "100%|██████████| 524/524 [01:04<00:00,  8.12it/s]\n"
          ]
        },
        {
          "metadata": {
            "tags": null
          },
          "name": "stdout",
          "output_type": "stream",
          "text": [
            "epoch 54, loss: 0.00773, acc: 0.79778, val_loss: 0.00747, val_accuracy: 0.79735\n"
          ]
        },
        {
          "metadata": {
            "tags": null
          },
          "name": "stderr",
          "output_type": "stream",
          "text": [
            "100%|██████████| 524/524 [03:27<00:00,  2.53it/s]\n",
            "100%|██████████| 524/524 [01:04<00:00,  8.06it/s]\n"
          ]
        },
        {
          "metadata": {
            "tags": null
          },
          "name": "stdout",
          "output_type": "stream",
          "text": [
            "epoch 55, loss: 0.01564, acc: 0.79559, val_loss: 0.00471, val_accuracy: 0.79864\n"
          ]
        },
        {
          "metadata": {
            "tags": null
          },
          "name": "stderr",
          "output_type": "stream",
          "text": [
            "100%|██████████| 524/524 [03:27<00:00,  2.53it/s]\n",
            "100%|██████████| 524/524 [01:04<00:00,  8.10it/s]\n"
          ]
        },
        {
          "metadata": {
            "tags": null
          },
          "name": "stdout",
          "output_type": "stream",
          "text": [
            "epoch 56, loss: 0.01330, acc: 0.79654, val_loss: 0.00383, val_accuracy: 0.79912\n"
          ]
        },
        {
          "metadata": {
            "tags": null
          },
          "name": "stderr",
          "output_type": "stream",
          "text": [
            "100%|██████████| 524/524 [03:27<00:00,  2.53it/s]\n",
            "100%|██████████| 524/524 [01:04<00:00,  8.07it/s]\n"
          ]
        },
        {
          "metadata": {
            "tags": null
          },
          "name": "stdout",
          "output_type": "stream",
          "text": [
            "epoch 57, loss: 0.01273, acc: 0.79645, val_loss: 0.03029, val_accuracy: 0.79133\n"
          ]
        },
        {
          "metadata": {
            "tags": null
          },
          "name": "stderr",
          "output_type": "stream",
          "text": [
            "100%|██████████| 524/524 [03:27<00:00,  2.53it/s]\n",
            "100%|██████████| 524/524 [01:04<00:00,  8.06it/s]\n"
          ]
        },
        {
          "metadata": {
            "tags": null
          },
          "name": "stdout",
          "output_type": "stream",
          "text": [
            "epoch 58, loss: 0.00856, acc: 0.79769, val_loss: 0.00280, val_accuracy: 0.79898\n"
          ]
        },
        {
          "metadata": {
            "tags": null
          },
          "name": "stderr",
          "output_type": "stream",
          "text": [
            "100%|██████████| 524/524 [03:27<00:00,  2.53it/s]\n",
            "100%|██████████| 524/524 [01:05<00:00,  8.06it/s]\n"
          ]
        },
        {
          "metadata": {
            "tags": null
          },
          "name": "stdout",
          "output_type": "stream",
          "text": [
            "epoch 59, loss: 0.00996, acc: 0.79711, val_loss: 0.00836, val_accuracy: 0.79778\n"
          ]
        },
        {
          "metadata": {
            "tags": null
          },
          "name": "stderr",
          "output_type": "stream",
          "text": [
            "100%|██████████| 524/524 [03:27<00:00,  2.53it/s]\n",
            "100%|██████████| 524/524 [01:04<00:00,  8.09it/s]\n"
          ]
        },
        {
          "metadata": {
            "tags": null
          },
          "name": "stdout",
          "output_type": "stream",
          "text": [
            "epoch 60, loss: 0.02000, acc: 0.79449, val_loss: 0.00529, val_accuracy: 0.79812\n"
          ]
        },
        {
          "metadata": {
            "tags": null
          },
          "name": "stderr",
          "output_type": "stream",
          "text": [
            "100%|██████████| 524/524 [03:27<00:00,  2.53it/s]\n",
            "100%|██████████| 524/524 [01:05<00:00,  8.06it/s]\n"
          ]
        },
        {
          "metadata": {
            "tags": null
          },
          "name": "stdout",
          "output_type": "stream",
          "text": [
            "epoch 61, loss: 0.01417, acc: 0.79621, val_loss: 0.00255, val_accuracy: 0.79950\n"
          ]
        },
        {
          "metadata": {
            "tags": null
          },
          "name": "stderr",
          "output_type": "stream",
          "text": [
            "100%|██████████| 524/524 [03:27<00:00,  2.53it/s]\n",
            "100%|██████████| 524/524 [01:04<00:00,  8.09it/s]\n"
          ]
        },
        {
          "metadata": {
            "tags": null
          },
          "name": "stdout",
          "output_type": "stream",
          "text": [
            "epoch 62, loss: 0.00709, acc: 0.79774, val_loss: 0.00858, val_accuracy: 0.79817\n"
          ]
        },
        {
          "metadata": {
            "tags": null
          },
          "name": "stderr",
          "output_type": "stream",
          "text": [
            "100%|██████████| 524/524 [03:27<00:00,  2.53it/s]\n",
            "100%|██████████| 524/524 [01:05<00:00,  8.06it/s]\n"
          ]
        },
        {
          "metadata": {
            "tags": null
          },
          "name": "stdout",
          "output_type": "stream",
          "text": [
            "epoch 63, loss: 0.01834, acc: 0.79496, val_loss: 0.00830, val_accuracy: 0.79778\n"
          ]
        },
        {
          "metadata": {
            "tags": null
          },
          "name": "stderr",
          "output_type": "stream",
          "text": [
            "100%|██████████| 524/524 [03:27<00:00,  2.53it/s]\n",
            "100%|██████████| 524/524 [01:05<00:00,  7.98it/s]\n"
          ]
        },
        {
          "metadata": {
            "tags": null
          },
          "name": "stdout",
          "output_type": "stream",
          "text": [
            "model loss 갱신 0.00221 -> 0.00132\n",
            "epoch 64, loss: 0.00510, acc: 0.79883, val_loss: 0.00132, val_accuracy: 0.79960\n"
          ]
        },
        {
          "metadata": {
            "tags": null
          },
          "name": "stderr",
          "output_type": "stream",
          "text": [
            "100%|██████████| 524/524 [03:26<00:00,  2.53it/s]\n",
            "100%|██████████| 524/524 [01:04<00:00,  8.10it/s]\n"
          ]
        },
        {
          "metadata": {
            "tags": null
          },
          "name": "stdout",
          "output_type": "stream",
          "text": [
            "epoch 65, loss: 0.00869, acc: 0.79759, val_loss: 0.01750, val_accuracy: 0.79535\n"
          ]
        },
        {
          "output_type": "stream",
          "name": "stderr",
          "text": [
            "100%|██████████| 524/524 [03:26<00:00,  2.53it/s]\n",
            "100%|██████████| 524/524 [01:04<00:00,  8.10it/s]\n"
          ]
        },
        {
          "output_type": "stream",
          "name": "stdout",
          "text": [
            "epoch 66, loss: 0.01234, acc: 0.79630, val_loss: 0.01360, val_accuracy: 0.79621\n"
          ]
        },
        {
          "output_type": "stream",
          "name": "stderr",
          "text": [
            "100%|██████████| 524/524 [03:26<00:00,  2.53it/s]\n",
            "100%|██████████| 524/524 [01:05<00:00,  8.06it/s]\n"
          ]
        },
        {
          "output_type": "stream",
          "name": "stdout",
          "text": [
            "epoch 67, loss: 0.00973, acc: 0.79721, val_loss: 0.00199, val_accuracy: 0.79960\n"
          ]
        },
        {
          "output_type": "stream",
          "name": "stderr",
          "text": [
            "100%|██████████| 524/524 [03:26<00:00,  2.53it/s]\n",
            "100%|██████████| 524/524 [01:04<00:00,  8.08it/s]\n"
          ]
        },
        {
          "output_type": "stream",
          "name": "stdout",
          "text": [
            "epoch 68, loss: 0.00533, acc: 0.79855, val_loss: 0.00154, val_accuracy: 0.79960\n"
          ]
        },
        {
          "output_type": "stream",
          "name": "stderr",
          "text": [
            "100%|██████████| 524/524 [03:26<00:00,  2.53it/s]\n",
            "100%|██████████| 524/524 [01:04<00:00,  8.07it/s]\n"
          ]
        },
        {
          "output_type": "stream",
          "name": "stdout",
          "text": [
            "epoch 69, loss: 0.00802, acc: 0.79774, val_loss: 0.03066, val_accuracy: 0.79181\n"
          ]
        },
        {
          "output_type": "stream",
          "name": "stderr",
          "text": [
            "100%|██████████| 524/524 [03:26<00:00,  2.53it/s]\n",
            "100%|██████████| 524/524 [01:05<00:00,  8.06it/s]\n"
          ]
        },
        {
          "output_type": "stream",
          "name": "stdout",
          "text": [
            "epoch 70, loss: 0.01594, acc: 0.79578, val_loss: 0.00988, val_accuracy: 0.79688\n"
          ]
        },
        {
          "output_type": "stream",
          "name": "stderr",
          "text": [
            "100%|██████████| 524/524 [03:27<00:00,  2.53it/s]\n",
            "100%|██████████| 524/524 [01:04<00:00,  8.09it/s]\n"
          ]
        },
        {
          "output_type": "stream",
          "name": "stdout",
          "text": [
            "epoch 71, loss: 0.01055, acc: 0.79678, val_loss: 0.02764, val_accuracy: 0.79186\n"
          ]
        },
        {
          "output_type": "stream",
          "name": "stderr",
          "text": [
            "100%|██████████| 524/524 [03:26<00:00,  2.53it/s]\n",
            "100%|██████████| 524/524 [01:05<00:00,  8.06it/s]\n"
          ]
        },
        {
          "output_type": "stream",
          "name": "stdout",
          "text": [
            "epoch 72, loss: 0.01186, acc: 0.79635, val_loss: 0.00247, val_accuracy: 0.79955\n"
          ]
        },
        {
          "output_type": "stream",
          "name": "stderr",
          "text": [
            "100%|██████████| 524/524 [03:26<00:00,  2.53it/s]\n",
            "100%|██████████| 524/524 [01:05<00:00,  8.05it/s]\n"
          ]
        },
        {
          "output_type": "stream",
          "name": "stdout",
          "text": [
            "epoch 73, loss: 0.00507, acc: 0.79850, val_loss: 0.01375, val_accuracy: 0.79606\n"
          ]
        },
        {
          "output_type": "stream",
          "name": "stderr",
          "text": [
            "100%|██████████| 524/524 [03:26<00:00,  2.53it/s]\n",
            "100%|██████████| 524/524 [01:05<00:00,  8.06it/s]\n"
          ]
        },
        {
          "output_type": "stream",
          "name": "stdout",
          "text": [
            "epoch 74, loss: 0.01289, acc: 0.79702, val_loss: 0.00602, val_accuracy: 0.79840\n"
          ]
        },
        {
          "output_type": "stream",
          "name": "stderr",
          "text": [
            "100%|██████████| 524/524 [03:27<00:00,  2.53it/s]\n",
            "100%|██████████| 524/524 [01:05<00:00,  8.02it/s]\n"
          ]
        },
        {
          "output_type": "stream",
          "name": "stdout",
          "text": [
            "epoch 75, loss: 0.00553, acc: 0.79826, val_loss: 0.00436, val_accuracy: 0.79888\n"
          ]
        },
        {
          "output_type": "stream",
          "name": "stderr",
          "text": [
            "100%|██████████| 524/524 [03:26<00:00,  2.53it/s]\n",
            "100%|██████████| 524/524 [01:04<00:00,  8.11it/s]\n"
          ]
        },
        {
          "output_type": "stream",
          "name": "stdout",
          "text": [
            "epoch 76, loss: 0.00894, acc: 0.79764, val_loss: 0.00573, val_accuracy: 0.79797\n"
          ]
        },
        {
          "output_type": "stream",
          "name": "stderr",
          "text": [
            "100%|██████████| 524/524 [03:27<00:00,  2.53it/s]\n",
            "100%|██████████| 524/524 [01:05<00:00,  8.03it/s]\n"
          ]
        },
        {
          "output_type": "stream",
          "name": "stdout",
          "text": [
            "epoch 77, loss: 0.00976, acc: 0.79735, val_loss: 0.00505, val_accuracy: 0.79826\n"
          ]
        },
        {
          "output_type": "stream",
          "name": "stderr",
          "text": [
            "100%|██████████| 524/524 [03:26<00:00,  2.53it/s]\n",
            "100%|██████████| 524/524 [01:04<00:00,  8.10it/s]\n"
          ]
        },
        {
          "output_type": "stream",
          "name": "stdout",
          "text": [
            "model loss 갱신 0.00132 -> 0.00123\n",
            "epoch 78, loss: 0.00352, acc: 0.79903, val_loss: 0.00123, val_accuracy: 0.79965\n"
          ]
        },
        {
          "output_type": "stream",
          "name": "stderr",
          "text": [
            "100%|██████████| 524/524 [03:26<00:00,  2.54it/s]\n",
            "100%|██████████| 524/524 [01:04<00:00,  8.07it/s]\n"
          ]
        },
        {
          "output_type": "stream",
          "name": "stdout",
          "text": [
            "epoch 79, loss: 0.00691, acc: 0.79788, val_loss: 0.00496, val_accuracy: 0.79879\n"
          ]
        },
        {
          "output_type": "stream",
          "name": "stderr",
          "text": [
            "100%|██████████| 524/524 [03:26<00:00,  2.53it/s]\n",
            "100%|██████████| 524/524 [01:04<00:00,  8.09it/s]\n"
          ]
        },
        {
          "output_type": "stream",
          "name": "stdout",
          "text": [
            "epoch 80, loss: 0.01536, acc: 0.79597, val_loss: 0.00528, val_accuracy: 0.79860\n"
          ]
        },
        {
          "output_type": "stream",
          "name": "stderr",
          "text": [
            "100%|██████████| 524/524 [03:26<00:00,  2.53it/s]\n",
            "100%|██████████| 524/524 [01:04<00:00,  8.07it/s]\n"
          ]
        },
        {
          "output_type": "stream",
          "name": "stdout",
          "text": [
            "epoch 81, loss: 0.00698, acc: 0.79802, val_loss: 0.00380, val_accuracy: 0.79912\n"
          ]
        },
        {
          "output_type": "stream",
          "name": "stderr",
          "text": [
            "100%|██████████| 524/524 [03:26<00:00,  2.53it/s]\n",
            "100%|██████████| 524/524 [01:04<00:00,  8.10it/s]\n"
          ]
        },
        {
          "output_type": "stream",
          "name": "stdout",
          "text": [
            "epoch 82, loss: 0.01338, acc: 0.79668, val_loss: 0.00396, val_accuracy: 0.79893\n"
          ]
        },
        {
          "output_type": "stream",
          "name": "stderr",
          "text": [
            "100%|██████████| 524/524 [03:26<00:00,  2.53it/s]\n",
            "100%|██████████| 524/524 [01:05<00:00,  8.05it/s]\n"
          ]
        },
        {
          "output_type": "stream",
          "name": "stdout",
          "text": [
            "epoch 83, loss: 0.00577, acc: 0.79855, val_loss: 0.00157, val_accuracy: 0.79960\n"
          ]
        },
        {
          "output_type": "stream",
          "name": "stderr",
          "text": [
            "100%|██████████| 524/524 [03:26<00:00,  2.53it/s]\n",
            "100%|██████████| 524/524 [01:05<00:00,  8.05it/s]\n"
          ]
        },
        {
          "output_type": "stream",
          "name": "stdout",
          "text": [
            "epoch 84, loss: 0.00416, acc: 0.79879, val_loss: 0.00463, val_accuracy: 0.79874\n"
          ]
        },
        {
          "output_type": "stream",
          "name": "stderr",
          "text": [
            "100%|██████████| 524/524 [03:26<00:00,  2.53it/s]\n",
            "100%|██████████| 524/524 [01:04<00:00,  8.09it/s]\n"
          ]
        },
        {
          "output_type": "stream",
          "name": "stdout",
          "text": [
            "epoch 85, loss: 0.00423, acc: 0.79869, val_loss: 0.00478, val_accuracy: 0.79879\n"
          ]
        },
        {
          "output_type": "stream",
          "name": "stderr",
          "text": [
            "100%|██████████| 524/524 [03:26<00:00,  2.53it/s]\n",
            "100%|██████████| 524/524 [01:04<00:00,  8.09it/s]\n"
          ]
        },
        {
          "output_type": "stream",
          "name": "stdout",
          "text": [
            "epoch 86, loss: 0.00847, acc: 0.79793, val_loss: 0.02340, val_accuracy: 0.79415\n"
          ]
        },
        {
          "output_type": "stream",
          "name": "stderr",
          "text": [
            "100%|██████████| 524/524 [03:26<00:00,  2.53it/s]\n",
            "100%|██████████| 524/524 [01:04<00:00,  8.07it/s]\n"
          ]
        },
        {
          "output_type": "stream",
          "name": "stdout",
          "text": [
            "epoch 87, loss: 0.01600, acc: 0.79544, val_loss: 0.01716, val_accuracy: 0.79511\n"
          ]
        },
        {
          "output_type": "stream",
          "name": "stderr",
          "text": [
            "100%|██████████| 524/524 [03:26<00:00,  2.53it/s]\n",
            "100%|██████████| 524/524 [01:05<00:00,  8.06it/s]\n"
          ]
        },
        {
          "output_type": "stream",
          "name": "stdout",
          "text": [
            "model loss 갱신 0.00123 -> 0.00058\n",
            "epoch 88, loss: 0.00338, acc: 0.79888, val_loss: 0.00058, val_accuracy: 0.79993\n"
          ]
        },
        {
          "output_type": "stream",
          "name": "stderr",
          "text": [
            "100%|██████████| 524/524 [03:26<00:00,  2.54it/s]\n",
            "100%|██████████| 524/524 [01:04<00:00,  8.10it/s]\n"
          ]
        },
        {
          "output_type": "stream",
          "name": "stdout",
          "text": [
            "epoch 89, loss: 0.00410, acc: 0.79879, val_loss: 0.00552, val_accuracy: 0.79850\n"
          ]
        },
        {
          "output_type": "stream",
          "name": "stderr",
          "text": [
            "100%|██████████| 524/524 [03:26<00:00,  2.54it/s]\n",
            "100%|██████████| 524/524 [01:04<00:00,  8.10it/s]\n"
          ]
        },
        {
          "output_type": "stream",
          "name": "stdout",
          "text": [
            "epoch 90, loss: 0.01437, acc: 0.79611, val_loss: 0.00107, val_accuracy: 0.79974\n"
          ]
        },
        {
          "output_type": "stream",
          "name": "stderr",
          "text": [
            "100%|██████████| 524/524 [03:26<00:00,  2.54it/s]\n",
            "100%|██████████| 524/524 [01:04<00:00,  8.11it/s]\n"
          ]
        },
        {
          "output_type": "stream",
          "name": "stdout",
          "text": [
            "epoch 91, loss: 0.00695, acc: 0.79778, val_loss: 0.00209, val_accuracy: 0.79960\n"
          ]
        },
        {
          "output_type": "stream",
          "name": "stderr",
          "text": [
            "100%|██████████| 524/524 [03:26<00:00,  2.53it/s]\n",
            "100%|██████████| 524/524 [01:05<00:00,  8.05it/s]\n"
          ]
        },
        {
          "output_type": "stream",
          "name": "stdout",
          "text": [
            "epoch 92, loss: 0.00807, acc: 0.79774, val_loss: 0.00073, val_accuracy: 0.79979\n"
          ]
        },
        {
          "output_type": "stream",
          "name": "stderr",
          "text": [
            "100%|██████████| 524/524 [03:26<00:00,  2.53it/s]\n",
            "100%|██████████| 524/524 [01:04<00:00,  8.11it/s]\n"
          ]
        },
        {
          "output_type": "stream",
          "name": "stdout",
          "text": [
            "epoch 93, loss: 0.00874, acc: 0.79735, val_loss: 0.00315, val_accuracy: 0.79941\n"
          ]
        },
        {
          "output_type": "stream",
          "name": "stderr",
          "text": [
            "100%|██████████| 524/524 [03:26<00:00,  2.54it/s]\n",
            "100%|██████████| 524/524 [01:05<00:00,  8.03it/s]\n"
          ]
        },
        {
          "output_type": "stream",
          "name": "stdout",
          "text": [
            "epoch 94, loss: 0.00344, acc: 0.79922, val_loss: 0.00201, val_accuracy: 0.79960\n"
          ]
        },
        {
          "output_type": "stream",
          "name": "stderr",
          "text": [
            "100%|██████████| 524/524 [03:26<00:00,  2.53it/s]\n",
            "100%|██████████| 524/524 [01:05<00:00,  8.04it/s]\n"
          ]
        },
        {
          "output_type": "stream",
          "name": "stdout",
          "text": [
            "epoch 95, loss: 0.00169, acc: 0.79960, val_loss: 0.00195, val_accuracy: 0.79946\n"
          ]
        },
        {
          "output_type": "stream",
          "name": "stderr",
          "text": [
            "100%|██████████| 524/524 [03:26<00:00,  2.53it/s]\n",
            "100%|██████████| 524/524 [01:05<00:00,  8.05it/s]\n"
          ]
        },
        {
          "output_type": "stream",
          "name": "stdout",
          "text": [
            "epoch 96, loss: 0.01608, acc: 0.79602, val_loss: 0.01405, val_accuracy: 0.79544\n"
          ]
        },
        {
          "output_type": "stream",
          "name": "stderr",
          "text": [
            "100%|██████████| 524/524 [03:26<00:00,  2.53it/s]\n",
            "100%|██████████| 524/524 [01:04<00:00,  8.07it/s]\n"
          ]
        },
        {
          "output_type": "stream",
          "name": "stdout",
          "text": [
            "epoch 97, loss: 0.00503, acc: 0.79879, val_loss: 0.00360, val_accuracy: 0.79912\n"
          ]
        },
        {
          "output_type": "stream",
          "name": "stderr",
          "text": [
            "100%|██████████| 524/524 [03:26<00:00,  2.53it/s]\n",
            "100%|██████████| 524/524 [01:05<00:00,  8.02it/s]\n"
          ]
        },
        {
          "output_type": "stream",
          "name": "stdout",
          "text": [
            "epoch 98, loss: 0.00418, acc: 0.79907, val_loss: 0.00076, val_accuracy: 0.79984\n"
          ]
        },
        {
          "output_type": "stream",
          "name": "stderr",
          "text": [
            "100%|██████████| 524/524 [03:26<00:00,  2.53it/s]\n",
            "100%|██████████| 524/524 [01:04<00:00,  8.09it/s]\n"
          ]
        },
        {
          "output_type": "stream",
          "name": "stdout",
          "text": [
            "epoch 99, loss: 0.01127, acc: 0.79735, val_loss: 0.00690, val_accuracy: 0.79812\n"
          ]
        },
        {
          "output_type": "stream",
          "name": "stderr",
          "text": [
            "100%|██████████| 524/524 [03:26<00:00,  2.53it/s]\n",
            "100%|██████████| 524/524 [01:04<00:00,  8.09it/s]"
          ]
        },
        {
          "output_type": "stream",
          "name": "stdout",
          "text": [
            "epoch 100, loss: 0.00929, acc: 0.79735, val_loss: 0.00161, val_accuracy: 0.79955\n"
          ]
        },
        {
          "output_type": "stream",
          "name": "stderr",
          "text": [
            "\n"
          ]
        }
      ]
    },
    {
      "cell_type": "markdown",
      "source": [
        "- 최고 score의 model 다운"
      ],
      "metadata": {
        "id": "SKa9w9MMPD3G"
      }
    },
    {
      "cell_type": "code",
      "source": [
        "from google.colab import files\n",
        "files.download('best_model.pth')"
      ],
      "metadata": {
        "colab": {
          "base_uri": "https://localhost:8080/",
          "height": 17
        },
        "id": "_HJafv-26Ueh",
        "outputId": "6be09df9-e299-4e1e-a5ac-4789065893f2"
      },
      "execution_count": null,
      "outputs": [
        {
          "output_type": "display_data",
          "data": {
            "text/plain": [
              "<IPython.core.display.Javascript object>"
            ],
            "application/javascript": [
              "\n",
              "    async function download(id, filename, size) {\n",
              "      if (!google.colab.kernel.accessAllowed) {\n",
              "        return;\n",
              "      }\n",
              "      const div = document.createElement('div');\n",
              "      const label = document.createElement('label');\n",
              "      label.textContent = `Downloading \"${filename}\": `;\n",
              "      div.appendChild(label);\n",
              "      const progress = document.createElement('progress');\n",
              "      progress.max = size;\n",
              "      div.appendChild(progress);\n",
              "      document.body.appendChild(div);\n",
              "\n",
              "      const buffers = [];\n",
              "      let downloaded = 0;\n",
              "\n",
              "      const channel = await google.colab.kernel.comms.open(id);\n",
              "      // Send a message to notify the kernel that we're ready.\n",
              "      channel.send({})\n",
              "\n",
              "      for await (const message of channel.messages) {\n",
              "        // Send a message to notify the kernel that we're ready.\n",
              "        channel.send({})\n",
              "        if (message.buffers) {\n",
              "          for (const buffer of message.buffers) {\n",
              "            buffers.push(buffer);\n",
              "            downloaded += buffer.byteLength;\n",
              "            progress.value = downloaded;\n",
              "          }\n",
              "        }\n",
              "      }\n",
              "      const blob = new Blob(buffers, {type: 'application/binary'});\n",
              "      const a = document.createElement('a');\n",
              "      a.href = window.URL.createObjectURL(blob);\n",
              "      a.download = filename;\n",
              "      div.appendChild(a);\n",
              "      a.click();\n",
              "      div.remove();\n",
              "    }\n",
              "  "
            ]
          },
          "metadata": {}
        },
        {
          "output_type": "display_data",
          "data": {
            "text/plain": [
              "<IPython.core.display.Javascript object>"
            ],
            "application/javascript": [
              "download(\"download_461a8813-aa67-4544-9d29-5b5cbcb1971d\", \"weights.best.hdf5\", 82136544)"
            ]
          },
          "metadata": {}
        }
      ]
    },
    {
      "cell_type": "markdown",
      "source": [
        "&nbsp;"
      ],
      "metadata": {
        "id": "bUxc62EtLhZT"
      }
    },
    {
      "cell_type": "markdown",
      "source": [
        "## 테스트 데이터로 검증"
      ],
      "metadata": {
        "id": "pPDWKbEiLjiV"
      }
    },
    {
      "cell_type": "markdown",
      "source": [
        "- 최고의 스코어 모델 load"
      ],
      "metadata": {
        "id": "LA1RG2ASRp8L"
      }
    },
    {
      "cell_type": "code",
      "source": [
        "checkpoint =  torch.load('best_model.pth')\n",
        "\n",
        "model_classification = torchvision.models.resnet50(pretrained=True)\n",
        "num_fc = model_classification.fc.in_features\n",
        "model_classification.fc = nn.Linear(num_fc, len(class_name))\n",
        "model = model_classification.to(device)\n",
        "\n",
        "model.load_state_dict(checkpoint)"
      ],
      "metadata": {
        "colab": {
          "base_uri": "https://localhost:8080/"
        },
        "id": "U8tk2HHpS1D8",
        "outputId": "89ffbd45-b6e5-4a2d-889c-f4f74451fafb"
      },
      "execution_count": null,
      "outputs": [
        {
          "output_type": "execute_result",
          "data": {
            "text/plain": [
              "<All keys matched successfully>"
            ]
          },
          "metadata": {},
          "execution_count": 10
        }
      ]
    },
    {
      "cell_type": "markdown",
      "source": [
        "- test 데이터 label, data 분리"
      ],
      "metadata": {
        "id": "XhXfNnTpPuFz"
      }
    },
    {
      "cell_type": "code",
      "source": [
        "test_data = glob('./kaggle_simpson_testset/kaggle_simpson_testset/*.jpg')\n",
        "\n",
        "os.mkdir('test_data')\n",
        "\n",
        "for file_name in test_data:\n",
        "  sep = file_name.split('kaggle_simpson_testset/')[-1].split('_')\n",
        "\n",
        "  name = '_'.join(sep[:-1])\n",
        "  number = sep[-1]\n",
        "\n",
        "  if os.path.exists(f'./test_data/{name}') == False:\n",
        "    os.mkdir(f'./test_data/{name}')\n",
        "\n",
        "\n",
        "  shutil.move(file_name, f'./test_data/{name}/{number}')"
      ],
      "metadata": {
        "id": "SN4Hvbf-6bLw"
      },
      "execution_count": null,
      "outputs": []
    },
    {
      "cell_type": "markdown",
      "source": [
        "- test_loader 설정"
      ],
      "metadata": {
        "id": "qUkZE07gP1SD"
      }
    },
    {
      "cell_type": "code",
      "source": [
        "test = datasets.ImageFolder('./test_data', data_transforms)\n",
        "ans_class = test.classes\n",
        "test_loader = DataLoader(test,\n",
        "                         shuffle=True,\n",
        "                          batch_size = 1,\n",
        "                          num_workers = 2)"
      ],
      "metadata": {
        "id": "-0kP9zeWNbD6"
      },
      "execution_count": null,
      "outputs": []
    },
    {
      "cell_type": "markdown",
      "source": [
        "- 결과 확인"
      ],
      "metadata": {
        "id": "uM7Pu4_kWLOd"
      }
    },
    {
      "cell_type": "code",
      "source": [
        "# 배치별 데이터 가져오기\n",
        "iterator = iter(test_loader)\n",
        "images, classes = next(iterator)\n",
        "\n",
        "\n",
        "with torch.no_grad():\n",
        "  model.eval()\n",
        "  outputs = model(images.to(device))\n",
        "  _, preds  = torch.max(outputs, dim=1)\n",
        "\n",
        "\n",
        "  image = make_grid(images)\n",
        "  show_image(image)\n",
        "  print()\n",
        "  print(f'pred_class : {class_name[preds[0].item()]}')\n",
        "  print(f'answer : {ans_class[classes.item()]}')"
      ],
      "metadata": {
        "colab": {
          "base_uri": "https://localhost:8080/",
          "height": 325
        },
        "id": "-BA5HUniQTIV",
        "outputId": "ba53efab-2d76-4cf5-b7a0-625e83300081"
      },
      "execution_count": null,
      "outputs": [
        {
          "output_type": "display_data",
          "data": {
            "text/plain": [
              "<Figure size 432x288 with 1 Axes>"
            ],
            "image/png": "[encoded data removed]"
          },
          "metadata": {
            "needs_background": "light"
          }
        },
        {
          "output_type": "stream",
          "name": "stdout",
          "text": [
            "\n",
            "pred_class : lisa_simpson\n",
            "answer : lisa_simpson\n"
          ]
        }
      ]
    }
  ]
}